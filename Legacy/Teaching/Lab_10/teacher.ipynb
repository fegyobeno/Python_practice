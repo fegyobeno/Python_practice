{
 "cells": [
  {
   "cell_type": "markdown",
   "metadata": {},
   "source": [
    "Importáljuk a pandas, seaborn és a matplotlib modult"
   ]
  },
  {
   "cell_type": "code",
   "execution_count": 104,
   "metadata": {},
   "outputs": [],
   "source": [
    "import pandas as pd\n",
    "import matplotlib.pyplot as plt\n",
    "import seaborn as sns"
   ]
  },
  {
   "cell_type": "markdown",
   "metadata": {},
   "source": [
    "Olvassuk be a company_data csv fájlt"
   ]
  },
  {
   "cell_type": "code",
   "execution_count": 105,
   "metadata": {},
   "outputs": [
    {
     "data": {
      "text/html": [
       "<div>\n",
       "<style scoped>\n",
       "    .dataframe tbody tr th:only-of-type {\n",
       "        vertical-align: middle;\n",
       "    }\n",
       "\n",
       "    .dataframe tbody tr th {\n",
       "        vertical-align: top;\n",
       "    }\n",
       "\n",
       "    .dataframe thead th {\n",
       "        text-align: right;\n",
       "    }\n",
       "</style>\n",
       "<table border=\"1\" class=\"dataframe\">\n",
       "  <thead>\n",
       "    <tr style=\"text-align: right;\">\n",
       "      <th></th>\n",
       "      <th>name</th>\n",
       "      <th>salary</th>\n",
       "      <th>birth_date</th>\n",
       "      <th>position</th>\n",
       "      <th>department</th>\n",
       "    </tr>\n",
       "  </thead>\n",
       "  <tbody>\n",
       "    <tr>\n",
       "      <th>0</th>\n",
       "      <td>Heidi</td>\n",
       "      <td>996</td>\n",
       "      <td>1956-7-2</td>\n",
       "      <td>manager</td>\n",
       "      <td>Cleaning</td>\n",
       "    </tr>\n",
       "    <tr>\n",
       "      <th>1</th>\n",
       "      <td>Alice</td>\n",
       "      <td>868</td>\n",
       "      <td>1954-7-21</td>\n",
       "      <td>developer</td>\n",
       "      <td>Cleaning</td>\n",
       "    </tr>\n",
       "    <tr>\n",
       "      <th>2</th>\n",
       "      <td>Alice</td>\n",
       "      <td>1727</td>\n",
       "      <td>1964-9-24</td>\n",
       "      <td>driver</td>\n",
       "      <td>Finance</td>\n",
       "    </tr>\n",
       "    <tr>\n",
       "      <th>3</th>\n",
       "      <td>Ivan</td>\n",
       "      <td>749</td>\n",
       "      <td>1967-3-2</td>\n",
       "      <td>courier</td>\n",
       "      <td>HR</td>\n",
       "    </tr>\n",
       "    <tr>\n",
       "      <th>4</th>\n",
       "      <td>Grace</td>\n",
       "      <td>761</td>\n",
       "      <td>1955-5-28</td>\n",
       "      <td>courier</td>\n",
       "      <td>Transport</td>\n",
       "    </tr>\n",
       "  </tbody>\n",
       "</table>\n",
       "</div>"
      ],
      "text/plain": [
       "    name  salary birth_date   position department\n",
       "0  Heidi     996   1956-7-2    manager   Cleaning\n",
       "1  Alice     868  1954-7-21  developer   Cleaning\n",
       "2  Alice    1727  1964-9-24     driver    Finance\n",
       "3   Ivan     749   1967-3-2    courier         HR\n",
       "4  Grace     761  1955-5-28    courier  Transport"
      ]
     },
     "execution_count": 105,
     "metadata": {},
     "output_type": "execute_result"
    }
   ],
   "source": [
    "data = pd.read_csv('company_data.csv')\n",
    "data.head()"
   ]
  },
  {
   "cell_type": "markdown",
   "metadata": {},
   "source": [
    "Állítsuk be minden sornak a helyes típusát\n",
    "[str, int, date, category, category]"
   ]
  },
  {
   "cell_type": "code",
   "execution_count": 106,
   "metadata": {},
   "outputs": [
    {
     "data": {
      "text/html": [
       "<div>\n",
       "<style scoped>\n",
       "    .dataframe tbody tr th:only-of-type {\n",
       "        vertical-align: middle;\n",
       "    }\n",
       "\n",
       "    .dataframe tbody tr th {\n",
       "        vertical-align: top;\n",
       "    }\n",
       "\n",
       "    .dataframe thead th {\n",
       "        text-align: right;\n",
       "    }\n",
       "</style>\n",
       "<table border=\"1\" class=\"dataframe\">\n",
       "  <thead>\n",
       "    <tr style=\"text-align: right;\">\n",
       "      <th></th>\n",
       "      <th>name</th>\n",
       "      <th>salary</th>\n",
       "      <th>birth_date</th>\n",
       "      <th>position</th>\n",
       "      <th>department</th>\n",
       "    </tr>\n",
       "  </thead>\n",
       "  <tbody>\n",
       "    <tr>\n",
       "      <th>0</th>\n",
       "      <td>Heidi</td>\n",
       "      <td>996</td>\n",
       "      <td>1956-07-02</td>\n",
       "      <td>manager</td>\n",
       "      <td>Cleaning</td>\n",
       "    </tr>\n",
       "    <tr>\n",
       "      <th>1</th>\n",
       "      <td>Alice</td>\n",
       "      <td>868</td>\n",
       "      <td>1954-07-21</td>\n",
       "      <td>developer</td>\n",
       "      <td>Cleaning</td>\n",
       "    </tr>\n",
       "    <tr>\n",
       "      <th>2</th>\n",
       "      <td>Alice</td>\n",
       "      <td>1727</td>\n",
       "      <td>1964-09-24</td>\n",
       "      <td>driver</td>\n",
       "      <td>Finance</td>\n",
       "    </tr>\n",
       "    <tr>\n",
       "      <th>3</th>\n",
       "      <td>Ivan</td>\n",
       "      <td>749</td>\n",
       "      <td>1967-03-02</td>\n",
       "      <td>courier</td>\n",
       "      <td>HR</td>\n",
       "    </tr>\n",
       "    <tr>\n",
       "      <th>4</th>\n",
       "      <td>Grace</td>\n",
       "      <td>761</td>\n",
       "      <td>1955-05-28</td>\n",
       "      <td>courier</td>\n",
       "      <td>Transport</td>\n",
       "    </tr>\n",
       "  </tbody>\n",
       "</table>\n",
       "</div>"
      ],
      "text/plain": [
       "    name  salary birth_date   position department\n",
       "0  Heidi     996 1956-07-02    manager   Cleaning\n",
       "1  Alice     868 1954-07-21  developer   Cleaning\n",
       "2  Alice    1727 1964-09-24     driver    Finance\n",
       "3   Ivan     749 1967-03-02    courier         HR\n",
       "4  Grace     761 1955-05-28    courier  Transport"
      ]
     },
     "execution_count": 106,
     "metadata": {},
     "output_type": "execute_result"
    }
   ],
   "source": [
    "data['name'].astype('str')\n",
    "data['salary'].astype('int')\n",
    "data['birth_date']=pd.to_datetime(data['birth_date'])\n",
    "data['position'].astype('category')\n",
    "data['department'].astype('category')\n",
    "data.head()"
   ]
  },
  {
   "cell_type": "markdown",
   "metadata": {},
   "source": [
    "Jelenítsük meg az adatnak a leírását"
   ]
  },
  {
   "cell_type": "code",
   "execution_count": 107,
   "metadata": {},
   "outputs": [
    {
     "data": {
      "text/html": [
       "<div>\n",
       "<style scoped>\n",
       "    .dataframe tbody tr th:only-of-type {\n",
       "        vertical-align: middle;\n",
       "    }\n",
       "\n",
       "    .dataframe tbody tr th {\n",
       "        vertical-align: top;\n",
       "    }\n",
       "\n",
       "    .dataframe thead th {\n",
       "        text-align: right;\n",
       "    }\n",
       "</style>\n",
       "<table border=\"1\" class=\"dataframe\">\n",
       "  <thead>\n",
       "    <tr style=\"text-align: right;\">\n",
       "      <th></th>\n",
       "      <th>salary</th>\n",
       "      <th>birth_date</th>\n",
       "    </tr>\n",
       "  </thead>\n",
       "  <tbody>\n",
       "    <tr>\n",
       "      <th>count</th>\n",
       "      <td>10000.000000</td>\n",
       "      <td>10000</td>\n",
       "    </tr>\n",
       "    <tr>\n",
       "      <th>mean</th>\n",
       "      <td>1031.415200</td>\n",
       "      <td>1975-07-19 03:11:31.200000</td>\n",
       "    </tr>\n",
       "    <tr>\n",
       "      <th>min</th>\n",
       "      <td>302.000000</td>\n",
       "      <td>1950-01-01 00:00:00</td>\n",
       "    </tr>\n",
       "    <tr>\n",
       "      <th>25%</th>\n",
       "      <td>737.000000</td>\n",
       "      <td>1962-09-27 18:00:00</td>\n",
       "    </tr>\n",
       "    <tr>\n",
       "      <th>50%</th>\n",
       "      <td>953.000000</td>\n",
       "      <td>1975-05-21 12:00:00</td>\n",
       "    </tr>\n",
       "    <tr>\n",
       "      <th>75%</th>\n",
       "      <td>1241.000000</td>\n",
       "      <td>1988-05-20 00:00:00</td>\n",
       "    </tr>\n",
       "    <tr>\n",
       "      <th>max</th>\n",
       "      <td>2496.000000</td>\n",
       "      <td>2000-12-28 00:00:00</td>\n",
       "    </tr>\n",
       "    <tr>\n",
       "      <th>std</th>\n",
       "      <td>406.564885</td>\n",
       "      <td>NaN</td>\n",
       "    </tr>\n",
       "  </tbody>\n",
       "</table>\n",
       "</div>"
      ],
      "text/plain": [
       "             salary                  birth_date\n",
       "count  10000.000000                       10000\n",
       "mean    1031.415200  1975-07-19 03:11:31.200000\n",
       "min      302.000000         1950-01-01 00:00:00\n",
       "25%      737.000000         1962-09-27 18:00:00\n",
       "50%      953.000000         1975-05-21 12:00:00\n",
       "75%     1241.000000         1988-05-20 00:00:00\n",
       "max     2496.000000         2000-12-28 00:00:00\n",
       "std      406.564885                         NaN"
      ]
     },
     "execution_count": 107,
     "metadata": {},
     "output_type": "execute_result"
    }
   ],
   "source": [
    "data.describe()"
   ]
  },
  {
   "cell_type": "markdown",
   "metadata": {},
   "source": [
    "Adjunk hozzá egy új oszlopot a data-hoz amiben minden dolgozónak az életkora szerepel"
   ]
  },
  {
   "cell_type": "code",
   "execution_count": 108,
   "metadata": {},
   "outputs": [
    {
     "data": {
      "text/html": [
       "<div>\n",
       "<style scoped>\n",
       "    .dataframe tbody tr th:only-of-type {\n",
       "        vertical-align: middle;\n",
       "    }\n",
       "\n",
       "    .dataframe tbody tr th {\n",
       "        vertical-align: top;\n",
       "    }\n",
       "\n",
       "    .dataframe thead th {\n",
       "        text-align: right;\n",
       "    }\n",
       "</style>\n",
       "<table border=\"1\" class=\"dataframe\">\n",
       "  <thead>\n",
       "    <tr style=\"text-align: right;\">\n",
       "      <th></th>\n",
       "      <th>name</th>\n",
       "      <th>salary</th>\n",
       "      <th>birth_date</th>\n",
       "      <th>position</th>\n",
       "      <th>department</th>\n",
       "      <th>age</th>\n",
       "    </tr>\n",
       "  </thead>\n",
       "  <tbody>\n",
       "    <tr>\n",
       "      <th>0</th>\n",
       "      <td>Heidi</td>\n",
       "      <td>996</td>\n",
       "      <td>1956-07-02</td>\n",
       "      <td>manager</td>\n",
       "      <td>Cleaning</td>\n",
       "      <td>68</td>\n",
       "    </tr>\n",
       "    <tr>\n",
       "      <th>1</th>\n",
       "      <td>Alice</td>\n",
       "      <td>868</td>\n",
       "      <td>1954-07-21</td>\n",
       "      <td>developer</td>\n",
       "      <td>Cleaning</td>\n",
       "      <td>70</td>\n",
       "    </tr>\n",
       "    <tr>\n",
       "      <th>2</th>\n",
       "      <td>Alice</td>\n",
       "      <td>1727</td>\n",
       "      <td>1964-09-24</td>\n",
       "      <td>driver</td>\n",
       "      <td>Finance</td>\n",
       "      <td>60</td>\n",
       "    </tr>\n",
       "    <tr>\n",
       "      <th>3</th>\n",
       "      <td>Ivan</td>\n",
       "      <td>749</td>\n",
       "      <td>1967-03-02</td>\n",
       "      <td>courier</td>\n",
       "      <td>HR</td>\n",
       "      <td>57</td>\n",
       "    </tr>\n",
       "    <tr>\n",
       "      <th>4</th>\n",
       "      <td>Grace</td>\n",
       "      <td>761</td>\n",
       "      <td>1955-05-28</td>\n",
       "      <td>courier</td>\n",
       "      <td>Transport</td>\n",
       "      <td>69</td>\n",
       "    </tr>\n",
       "  </tbody>\n",
       "</table>\n",
       "</div>"
      ],
      "text/plain": [
       "    name  salary birth_date   position department  age\n",
       "0  Heidi     996 1956-07-02    manager   Cleaning   68\n",
       "1  Alice     868 1954-07-21  developer   Cleaning   70\n",
       "2  Alice    1727 1964-09-24     driver    Finance   60\n",
       "3   Ivan     749 1967-03-02    courier         HR   57\n",
       "4  Grace     761 1955-05-28    courier  Transport   69"
      ]
     },
     "execution_count": 108,
     "metadata": {},
     "output_type": "execute_result"
    }
   ],
   "source": [
    "data['age'] = 2024 - data['birth_date'].dt.year\n",
    "data.head()"
   ]
  },
  {
   "cell_type": "markdown",
   "metadata": {},
   "source": [
    "Minden dolgozónak aki fejlesztőként dolgozik (developer) növeljük a fizetését 10%-al"
   ]
  },
  {
   "cell_type": "code",
   "execution_count": 109,
   "metadata": {},
   "outputs": [
    {
     "name": "stderr",
     "output_type": "stream",
     "text": [
      "C:\\Users\\Benedek\\AppData\\Local\\Temp\\ipykernel_14648\\908820755.py:1: FutureWarning: Setting an item of incompatible dtype is deprecated and will raise an error in a future version of pandas. Value '[ 954.8 1458.6 1848.  1049.4  985.6 1014.2 1037.3 1783.1 1086.8  804.1\n",
      " 1389.3 2433.2 1056.  1113.2 1217.7  749.1 1449.8 1212.2 1197.9 1731.4\n",
      " 1521.3 1065.9  933.9 1669.8 1262.8  883.3 1004.3 1624.7 1334.3 1294.7\n",
      " 1189.1 1268.3 1850.2 1146.2 1262.8 1483.9  952.6  755.7 1293.6 1604.9\n",
      "  985.6 1475.1 1129.7 2267.1 1496.  1753.4 1236.4 2293.5 1095.6 1430.\n",
      "  995.5  797.5 1725.9 1065.9 1361.8 1646.7 2163.7  883.3 2149.4 1070.3\n",
      "  951.5 1460.8 1295.8 1643.4 1189.1 1184.7 1244.1 1372.8  881.1 1531.2\n",
      " 1115.4  691.9 1606.  1868.9 1115.4 2504.7 1302.4  918.5  924.  2126.3\n",
      " 1408.  1124.2  819.5 1734.7 1377.2 1538.9 1412.4 2226.4 2282.5  888.8\n",
      " 1384.9 1085.7  983.4  995.5  941.6 1400.3 2481.6 1212.2 1508.1 1922.8\n",
      " 2505.8  680.9 1621.4 1947.  1613.7 1422.3 1229.8 1005.4 1884.3 2454.1\n",
      " 1487.2 1595.  2456.3 1074.7 1392.6  919.6 1631.3 2226.4 1130.8  694.1\n",
      "  933.9 2101.  1455.3  828.3 1182.5 1268.3 1552.1 1751.2 2429.9  944.9\n",
      " 2202.2 1478.4  867.9 1332.1  772.2 1053.8 1435.5 1833.7 1326.6 1356.3\n",
      "  773.3 1370.6 1331.  1620.3 1228.7 1284.8 1570.8 1344.2 2475.  2368.3\n",
      " 1029.6 1223.2  971.3 1874.4  671.  1194.6 1571.9 1232.   804.1 1013.1\n",
      " 1608.2  847.  1102.2  915.2 1103.3 1400.3 1075.8 1063.7 2458.5 1317.8\n",
      " 1197.9 1413.5 1035.1 1420.1  987.8 1945.9  771.1 1512.5 1395.9 1073.6\n",
      " 2454.1 1324.4 1288.1 1359.6 1168.2  999.9 1357.4  842.6 2513.5  840.4\n",
      " 1128.6 1426.7  954.8  785.4 1908.5 1520.2  927.3  794.2  915.2 2476.1\n",
      " 1140.7 2345.2 2512.4 1384.9 1059.3  954.8 1199.  2366.1 1265.  1432.2\n",
      " 1039.5  697.4 1589.5 1487.2 1006.5 1312.3 1678.6  700.7 1315.6 1597.2\n",
      " 1579.6 1004.3 1692.9 1309.  1217.7 1526.8  930.6 1450.9  704.   885.5\n",
      "  783.2 1807.3 1733.6 1058.2 1045.   991.1 1036.2 1575.2 1621.4 1138.5\n",
      "  886.6 1348.6  864.6 1307.9  974.6 1388.2  770.   682.  1189.1 1468.5\n",
      " 1114.3 1179.2  874.5 1666.5 1961.3 1185.8 1717.1 1338.7 2327.6  938.3\n",
      " 1181.4 1026.3 1136.3 1070.3 2310.  1560.9  820.6 1410.2 1222.1 2475.\n",
      " 1163.8 1492.7 1141.8 1624.7 1798.5 1609.3 1382.7 2505.8 1424.5  744.7\n",
      " 1104.4  983.4 1090.1 1967.9 1039.5 1322.2 2424.4 1244.1 1197.9  807.4\n",
      " 2435.4 1251.8 1098.9 1695.1  949.3 1181.4 1371.7 1043.9 1048.3 1277.1\n",
      " 1205.6 1028.5 1149.5 2421.1  863.5 2285.8 1265.  1095.6 1281.5 2246.2\n",
      " 1207.8 1234.2 1536.7  948.2 1323.3 1377.2 1208.9 1074.7 1112.1  915.2\n",
      " 1270.5 1342.  1413.5 1347.5  911.9 1281.5 1400.3 1615.9 1211.1 1610.4\n",
      " 1104.4 1192.4  933.9 1724.8 1107.7 1181.4 1744.6  925.1 1342.  1551.\n",
      "  965.8 1426.7 1136.3 1355.2  998.8  709.5 1953.6  977.9  892.1 1046.1\n",
      " 1279.3  741.4 1326.6 1278.2 1359.6 1085.7  833.8 1106.6 1273.8 1186.9\n",
      " 1094.5 1478.4  700.7 1428.9 1086.8 1160.5 1387.1 1921.7 1381.6  955.9\n",
      " 1927.2 1492.7 1082.4  898.7 1414.6 1344.2 1443.2 2120.8 1207.8 1323.3\n",
      " 1236.4  708.4 2185.7  882.2 1399.2  932.8 1465.2 1007.6 1718.2  944.9\n",
      " 1431.1  896.5 1747.9  992.2  974.6 2095.5 1207.8 1028.5  919.6 1399.2\n",
      " 1378.3 1304.6 1366.2 2297.9 1970.1  900.9  730.4 1894.2 1416.8 1037.3\n",
      " 1226.5 1930.5  953.7 1194.6 1084.6 1201.2  920.7 1122.  1978.9 1338.7\n",
      " 1695.1  762.3  980.1  933.9 1118.7 1200.1 1104.4 1092.3  785.4 1912.9\n",
      " 1322.2 1226.5 1340.9  883.3  973.5 1269.4  900.9 1430.  1967.9  795.3\n",
      " 1430.  1268.3 1364.  1237.5 1080.2 1117.6 1754.5  910.8  935.  1222.1\n",
      "  947.1 2351.8  674.3 1345.3  661.1 1098.9 1086.8 2522.3 1135.2 1804.\n",
      " 1920.6 1164.9 1025.2 1744.6 1377.2 1314.5 1262.8 1706.1 1313.4  910.8\n",
      " 1019.7 1458.6 1212.2  828.3 1295.8 1365.1 1582.9  897.6 1560.9 1205.6\n",
      " 1432.2 1797.4  874.5 1300.2  788.7 1359.6 1741.3  764.5 1624.7 1763.3\n",
      " 1386.  1525.7 1181.4 1544.4 1177.  1372.8  906.4 1168.2  924.   996.6\n",
      " 2322.1 1626.9 2328.7 1265.  1606.   944.9 1342.  1053.8 1619.2 1123.1\n",
      " 1015.3  897.6 1201.2 1311.2 1676.4 1866.7 1650.  1622.5  877.8 1030.7\n",
      " 1384.9 1210.  1063.7 1029.6 1293.6 1119.8 2379.3 1733.6 1448.7  713.9\n",
      " 1485.  1312.3 1014.2 1004.3 1343.1 1405.8 1060.4 1140.7 1405.8 1537.8\n",
      " 1100.  1036.2 1133.  1032.9  854.7 1861.2  964.7 1295.8 1669.8 1571.9\n",
      " 1697.3  784.3 1315.6 1240.8 1109.9 1105.5 1430.   718.3 1571.9 1857.9\n",
      " 1018.6 1383.8 2257.2 1126.4 1097.8 1324.4 1306.8 1037.3 1129.7 1359.6\n",
      " 1192.4  937.2  767.8 1311.2  853.6 1409.1  880.  1434.4 1117.6 1318.9\n",
      " 1417.9 1854.6 1032.9  862.4 1042.8  745.8 1250.7 1373.9 1097.8 1509.2\n",
      " 1004.3  737.  1131.9 1391.5 1174.8  963.6  975.7  951.5  914.1 1877.7\n",
      "  984.5 1492.7 1381.6 1320.  2227.5 1866.7 1134.1  864.6 2524.5 1026.3\n",
      " 1010.9 1185.8 1112.1 1745.7  907.5 1137.4 2504.7 1515.8 1296.9 1311.2\n",
      "  993.3  984.5 2414.5 1641.2 1060.4 1751.2 1037.3  976.8 1333.2 1663.2\n",
      " 1074.7 1005.4 1364.   775.5 1619.2 1350.8  946.   922.9 1019.7 2235.2\n",
      " 1391.5  930.6 1366.2 1219.9 2128.5 1162.7 1468.5  854.7 1226.5 1739.1\n",
      " 2519.   896.5 1201.2 2381.5 1203.4 1189.1 1225.4 1317.8 1050.5 1012.\n",
      " 1404.7 1489.4 1689.6 1353.  1412.4 1215.5 1541.1 1295.8 1555.4  869.\n",
      " 1219.9  963.6 1153.9 1405.8 1113.2 1373.9 1259.5 1457.5 1614.8 1256.2\n",
      " 1301.3 1525.7 1333.2 1277.1 1420.1  850.3  713.9 2477.2 1460.8 1254.\n",
      " 1334.3 2093.3 1335.4 1593.9 1379.4 1062.6 1482.8 1350.8 2337.5 1807.3\n",
      "  683.1 2189.  1288.1 1072.5 1588.4 1582.9 2175.8 1115.4 1281.5 1560.9\n",
      "  701.8 1316.7 1516.9  885.5 2341.9  974.6 1147.3 1199.  2440.9 1252.9\n",
      " 2213.2 1662.1  950.4 1629.1  907.5 1502.6 1524.6 1244.1 1076.9 1279.3\n",
      " 1483.9 1549.9 1415.7 1281.5 1397.   800.8 1510.3  760.1  717.2 1208.9\n",
      "  954.8 1282.6 1920.6 2527.8 1283.7 1266.1 1369.5 1002.1 1467.4  884.4\n",
      " 1252.9 1575.2 1416.8 1114.3 2153.8 1134.1 1875.5  798.6 2439.8 2240.7\n",
      " 1012.   867.9 2319.9 1005.4 2392.5  914.1  818.4 1398.1  823.9 1367.3\n",
      " 1134.1 1068.1 1563.1 1251.8 1079.1  958.1 1560.9 2119.7 1689.6 2282.5\n",
      " 1189.1  895.4 1560.9 1147.3  975.7  908.6 1115.4 1629.1  840.4 1365.1\n",
      "  895.4 1724.8 1350.8 1251.8 1945.9 1196.8  667.7 1277.1 1271.6 1670.9\n",
      "  903.1 1410.2  763.4 1510.3 2215.4 2369.4  995.5 1012.   903.1 1112.1\n",
      " 1079.1 1424.5 1741.3 1469.6 1596.1 1218.8 1248.5 1030.7  946.  1175.9\n",
      " 1245.2  922.9  875.6 1137.4 2438.7 1062.6 1576.3 1142.9 1315.6 1944.8\n",
      " 1183.6 1136.3 1150.6 1965.7 2447.5 2119.7 1268.3 1285.9 1321.1 1094.5\n",
      " 2362.8 1381.6 1097.8 1501.5 2299.  1018.6  781.  2457.4 1386.  1672.\n",
      " 1648.9 1948.1 2499.2 1056.  1085.7]' has dtype incompatible with int64, please explicitly cast to a compatible dtype first.\n",
      "  data.loc[data['position'] == 'developer', 'salary'] *= 1.10\n"
     ]
    },
    {
     "data": {
      "text/html": [
       "<div>\n",
       "<style scoped>\n",
       "    .dataframe tbody tr th:only-of-type {\n",
       "        vertical-align: middle;\n",
       "    }\n",
       "\n",
       "    .dataframe tbody tr th {\n",
       "        vertical-align: top;\n",
       "    }\n",
       "\n",
       "    .dataframe thead th {\n",
       "        text-align: right;\n",
       "    }\n",
       "</style>\n",
       "<table border=\"1\" class=\"dataframe\">\n",
       "  <thead>\n",
       "    <tr style=\"text-align: right;\">\n",
       "      <th></th>\n",
       "      <th>name</th>\n",
       "      <th>salary</th>\n",
       "      <th>birth_date</th>\n",
       "      <th>position</th>\n",
       "      <th>department</th>\n",
       "      <th>age</th>\n",
       "    </tr>\n",
       "  </thead>\n",
       "  <tbody>\n",
       "    <tr>\n",
       "      <th>0</th>\n",
       "      <td>Heidi</td>\n",
       "      <td>996.0</td>\n",
       "      <td>1956-07-02</td>\n",
       "      <td>manager</td>\n",
       "      <td>Cleaning</td>\n",
       "      <td>68</td>\n",
       "    </tr>\n",
       "    <tr>\n",
       "      <th>1</th>\n",
       "      <td>Alice</td>\n",
       "      <td>954.8</td>\n",
       "      <td>1954-07-21</td>\n",
       "      <td>developer</td>\n",
       "      <td>Cleaning</td>\n",
       "      <td>70</td>\n",
       "    </tr>\n",
       "    <tr>\n",
       "      <th>2</th>\n",
       "      <td>Alice</td>\n",
       "      <td>1727.0</td>\n",
       "      <td>1964-09-24</td>\n",
       "      <td>driver</td>\n",
       "      <td>Finance</td>\n",
       "      <td>60</td>\n",
       "    </tr>\n",
       "    <tr>\n",
       "      <th>3</th>\n",
       "      <td>Ivan</td>\n",
       "      <td>749.0</td>\n",
       "      <td>1967-03-02</td>\n",
       "      <td>courier</td>\n",
       "      <td>HR</td>\n",
       "      <td>57</td>\n",
       "    </tr>\n",
       "    <tr>\n",
       "      <th>4</th>\n",
       "      <td>Grace</td>\n",
       "      <td>761.0</td>\n",
       "      <td>1955-05-28</td>\n",
       "      <td>courier</td>\n",
       "      <td>Transport</td>\n",
       "      <td>69</td>\n",
       "    </tr>\n",
       "  </tbody>\n",
       "</table>\n",
       "</div>"
      ],
      "text/plain": [
       "    name  salary birth_date   position department  age\n",
       "0  Heidi   996.0 1956-07-02    manager   Cleaning   68\n",
       "1  Alice   954.8 1954-07-21  developer   Cleaning   70\n",
       "2  Alice  1727.0 1964-09-24     driver    Finance   60\n",
       "3   Ivan   749.0 1967-03-02    courier         HR   57\n",
       "4  Grace   761.0 1955-05-28    courier  Transport   69"
      ]
     },
     "execution_count": 109,
     "metadata": {},
     "output_type": "execute_result"
    }
   ],
   "source": [
    "data.loc[data['position'] == 'developer', 'salary'] *= 1.10\n",
    "data.head()"
   ]
  },
  {
   "cell_type": "markdown",
   "metadata": {},
   "source": [
    "Adjunk hozzá a data-hoz egy sort ami mindenkihez hozzárendeli a department átlagfizetését"
   ]
  },
  {
   "cell_type": "code",
   "execution_count": 110,
   "metadata": {},
   "outputs": [
    {
     "data": {
      "text/html": [
       "<div>\n",
       "<style scoped>\n",
       "    .dataframe tbody tr th:only-of-type {\n",
       "        vertical-align: middle;\n",
       "    }\n",
       "\n",
       "    .dataframe tbody tr th {\n",
       "        vertical-align: top;\n",
       "    }\n",
       "\n",
       "    .dataframe thead th {\n",
       "        text-align: right;\n",
       "    }\n",
       "</style>\n",
       "<table border=\"1\" class=\"dataframe\">\n",
       "  <thead>\n",
       "    <tr style=\"text-align: right;\">\n",
       "      <th></th>\n",
       "      <th>name</th>\n",
       "      <th>salary</th>\n",
       "      <th>birth_date</th>\n",
       "      <th>position</th>\n",
       "      <th>department</th>\n",
       "      <th>age</th>\n",
       "      <th>avg_department_salary</th>\n",
       "    </tr>\n",
       "  </thead>\n",
       "  <tbody>\n",
       "    <tr>\n",
       "      <th>0</th>\n",
       "      <td>Heidi</td>\n",
       "      <td>996.0</td>\n",
       "      <td>1956-07-02</td>\n",
       "      <td>manager</td>\n",
       "      <td>Cleaning</td>\n",
       "      <td>68</td>\n",
       "      <td>591.134072</td>\n",
       "    </tr>\n",
       "    <tr>\n",
       "      <th>1</th>\n",
       "      <td>Alice</td>\n",
       "      <td>954.8</td>\n",
       "      <td>1954-07-21</td>\n",
       "      <td>developer</td>\n",
       "      <td>Cleaning</td>\n",
       "      <td>70</td>\n",
       "      <td>591.134072</td>\n",
       "    </tr>\n",
       "    <tr>\n",
       "      <th>2</th>\n",
       "      <td>Alice</td>\n",
       "      <td>1727.0</td>\n",
       "      <td>1964-09-24</td>\n",
       "      <td>driver</td>\n",
       "      <td>Finance</td>\n",
       "      <td>60</td>\n",
       "      <td>1902.555567</td>\n",
       "    </tr>\n",
       "    <tr>\n",
       "      <th>3</th>\n",
       "      <td>Ivan</td>\n",
       "      <td>749.0</td>\n",
       "      <td>1967-03-02</td>\n",
       "      <td>courier</td>\n",
       "      <td>HR</td>\n",
       "      <td>57</td>\n",
       "      <td>897.082323</td>\n",
       "    </tr>\n",
       "    <tr>\n",
       "      <th>4</th>\n",
       "      <td>Grace</td>\n",
       "      <td>761.0</td>\n",
       "      <td>1955-05-28</td>\n",
       "      <td>courier</td>\n",
       "      <td>Transport</td>\n",
       "      <td>69</td>\n",
       "      <td>892.455894</td>\n",
       "    </tr>\n",
       "  </tbody>\n",
       "</table>\n",
       "</div>"
      ],
      "text/plain": [
       "    name  salary birth_date   position department  age  avg_department_salary\n",
       "0  Heidi   996.0 1956-07-02    manager   Cleaning   68             591.134072\n",
       "1  Alice   954.8 1954-07-21  developer   Cleaning   70             591.134072\n",
       "2  Alice  1727.0 1964-09-24     driver    Finance   60            1902.555567\n",
       "3   Ivan   749.0 1967-03-02    courier         HR   57             897.082323\n",
       "4  Grace   761.0 1955-05-28    courier  Transport   69             892.455894"
      ]
     },
     "execution_count": 110,
     "metadata": {},
     "output_type": "execute_result"
    }
   ],
   "source": [
    "data['avg_department_salary'] = data.groupby('department')['salary'].transform('mean')\n",
    "data.head()"
   ]
  },
  {
   "cell_type": "markdown",
   "metadata": {},
   "source": [
    "Készítsük el az adathalmaz korrelációs mátrixát"
   ]
  },
  {
   "cell_type": "code",
   "execution_count": 111,
   "metadata": {},
   "outputs": [],
   "source": [
    "import matplotlib.pyplot as plt\n",
    "import seaborn as sns\n",
    "\n"
   ]
  },
  {
   "cell_type": "code",
   "execution_count": 112,
   "metadata": {},
   "outputs": [
    {
     "name": "stdout",
     "output_type": "stream",
     "text": [
      "                 age    salary  department  position\n",
      "age         1.000000  0.002269    0.011253 -0.000657\n",
      "salary      0.002269  1.000000   -0.142215 -0.270015\n",
      "department  0.011253 -0.142215    1.000000  0.017787\n",
      "position   -0.000657 -0.270015    0.017787  1.000000\n"
     ]
    }
   ],
   "source": [
    "correlation_matrix = data[['age', 'salary', 'department', 'position']].apply(lambda x: pd.factorize(x)[0] if x.dtype == 'object' else x).corr()\n",
    "print(correlation_matrix)"
   ]
  },
  {
   "cell_type": "markdown",
   "metadata": {},
   "source": [
    "Vizualizáljuk ezt a korrelációt"
   ]
  },
  {
   "cell_type": "code",
   "execution_count": 113,
   "metadata": {},
   "outputs": [
    {
     "data": {
      "image/png": "[encoded data removed]",
      "text/plain": [
       "<Figure size 640x480 with 2 Axes>"
      ]
     },
     "metadata": {},
     "output_type": "display_data"
    }
   ],
   "source": [
    "sns.heatmap(correlation_matrix, annot=True)\n",
    "plt.title('Correlation matrix')\n",
    "plt.show()"
   ]
  },
  {
   "cell_type": "markdown",
   "metadata": {},
   "source": [
    "Számolkuk ki azt a Lineáris Regressziót, ami megbecsüli egy új alkalmazottnak a fizetését a kora alapján"
   ]
  },
  {
   "cell_type": "code",
   "execution_count": 114,
   "metadata": {},
   "outputs": [],
   "source": [
    "from sklearn.linear_model import LinearRegression"
   ]
  },
  {
   "cell_type": "markdown",
   "metadata": {},
   "source": [
    "Deparment és position kategorizálása"
   ]
  },
  {
   "cell_type": "code",
   "execution_count": 115,
   "metadata": {},
   "outputs": [
    {
     "data": {
      "text/html": [
       "<div>\n",
       "<style scoped>\n",
       "    .dataframe tbody tr th:only-of-type {\n",
       "        vertical-align: middle;\n",
       "    }\n",
       "\n",
       "    .dataframe tbody tr th {\n",
       "        vertical-align: top;\n",
       "    }\n",
       "\n",
       "    .dataframe thead th {\n",
       "        text-align: right;\n",
       "    }\n",
       "</style>\n",
       "<table border=\"1\" class=\"dataframe\">\n",
       "  <thead>\n",
       "    <tr style=\"text-align: right;\">\n",
       "      <th></th>\n",
       "      <th>name</th>\n",
       "      <th>salary</th>\n",
       "      <th>birth_date</th>\n",
       "      <th>position</th>\n",
       "      <th>department</th>\n",
       "      <th>age</th>\n",
       "      <th>avg_department_salary</th>\n",
       "      <th>position_cat</th>\n",
       "      <th>department_cat</th>\n",
       "    </tr>\n",
       "  </thead>\n",
       "  <tbody>\n",
       "    <tr>\n",
       "      <th>1</th>\n",
       "      <td>Alice</td>\n",
       "      <td>954.8</td>\n",
       "      <td>1954-07-21</td>\n",
       "      <td>developer</td>\n",
       "      <td>Cleaning</td>\n",
       "      <td>70</td>\n",
       "      <td>591.134072</td>\n",
       "      <td>1</td>\n",
       "      <td>0</td>\n",
       "    </tr>\n",
       "    <tr>\n",
       "      <th>5</th>\n",
       "      <td>Judy</td>\n",
       "      <td>1458.6</td>\n",
       "      <td>1980-12-11</td>\n",
       "      <td>developer</td>\n",
       "      <td>Marketing</td>\n",
       "      <td>44</td>\n",
       "      <td>1088.457732</td>\n",
       "      <td>1</td>\n",
       "      <td>4</td>\n",
       "    </tr>\n",
       "    <tr>\n",
       "      <th>14</th>\n",
       "      <td>Heidi</td>\n",
       "      <td>1848.0</td>\n",
       "      <td>1969-12-07</td>\n",
       "      <td>developer</td>\n",
       "      <td>IT</td>\n",
       "      <td>55</td>\n",
       "      <td>1386.227817</td>\n",
       "      <td>1</td>\n",
       "      <td>8</td>\n",
       "    </tr>\n",
       "    <tr>\n",
       "      <th>27</th>\n",
       "      <td>David</td>\n",
       "      <td>1049.4</td>\n",
       "      <td>1962-04-06</td>\n",
       "      <td>developer</td>\n",
       "      <td>Catering</td>\n",
       "      <td>62</td>\n",
       "      <td>683.134510</td>\n",
       "      <td>1</td>\n",
       "      <td>9</td>\n",
       "    </tr>\n",
       "    <tr>\n",
       "      <th>32</th>\n",
       "      <td>Heidi</td>\n",
       "      <td>985.6</td>\n",
       "      <td>1972-10-04</td>\n",
       "      <td>developer</td>\n",
       "      <td>Production</td>\n",
       "      <td>52</td>\n",
       "      <td>787.493197</td>\n",
       "      <td>1</td>\n",
       "      <td>7</td>\n",
       "    </tr>\n",
       "  </tbody>\n",
       "</table>\n",
       "</div>"
      ],
      "text/plain": [
       "     name  salary birth_date   position  department  age  \\\n",
       "1   Alice   954.8 1954-07-21  developer    Cleaning   70   \n",
       "5    Judy  1458.6 1980-12-11  developer   Marketing   44   \n",
       "14  Heidi  1848.0 1969-12-07  developer          IT   55   \n",
       "27  David  1049.4 1962-04-06  developer    Catering   62   \n",
       "32  Heidi   985.6 1972-10-04  developer  Production   52   \n",
       "\n",
       "    avg_department_salary  position_cat  department_cat  \n",
       "1              591.134072             1               0  \n",
       "5             1088.457732             1               4  \n",
       "14            1386.227817             1               8  \n",
       "27             683.134510             1               9  \n",
       "32             787.493197             1               7  "
      ]
     },
     "execution_count": 115,
     "metadata": {},
     "output_type": "execute_result"
    }
   ],
   "source": [
    "data['position_cat'] = pd.factorize(data['position'])[0]\n",
    "data['department_cat'] = pd.factorize(data['department'])[0]\n",
    "data[data['position']=='developer'].head()"
   ]
  },
  {
   "cell_type": "code",
   "execution_count": 116,
   "metadata": {},
   "outputs": [
    {
     "name": "stdout",
     "output_type": "stream",
     "text": [
      "[  0.10248839 -35.28707979 -19.98426365] 1304.0647726066904\n"
     ]
    }
   ],
   "source": [
    "x = data[['age', 'position_cat', 'department_cat']]\n",
    "y = data['salary']\n",
    "\n",
    "model = LinearRegression()\n",
    "model.fit(x, y)\n",
    "print(model.coef_, model.intercept_)"
   ]
  },
  {
   "cell_type": "code",
   "execution_count": 117,
   "metadata": {},
   "outputs": [
    {
     "name": "stdout",
     "output_type": "stream",
     "text": [
      "[1061.38833922]\n"
     ]
    },
    {
     "name": "stderr",
     "output_type": "stream",
     "text": [
      "C:\\Users\\Benedek\\AppData\\Local\\Packages\\PythonSoftwareFoundation.Python.3.11_qbz5n2kfra8p0\\LocalCache\\local-packages\\Python311\\site-packages\\sklearn\\base.py:493: UserWarning: X does not have valid feature names, but LinearRegression was fitted with feature names\n",
      "  warnings.warn(\n"
     ]
    }
   ],
   "source": [
    "print(model.predict([[30,3,7]]))"
   ]
  },
  {
   "cell_type": "markdown",
   "metadata": {},
   "source": [
    "Vizualizáljuk a lineáris regressziót"
   ]
  },
  {
   "cell_type": "code",
   "execution_count": 118,
   "metadata": {},
   "outputs": [
    {
     "data": {
      "image/png": "[encoded data removed]",
      "text/plain": [
       "<Figure size 1000x600 with 1 Axes>"
      ]
     },
     "metadata": {},
     "output_type": "display_data"
    }
   ],
   "source": [
    "# Predict the salaries using the model\n",
    "predicted_salaries = model.predict(x)\n",
    "\n",
    "# Plot the actual vs predicted salaries\n",
    "plt.figure(figsize=(10, 6))\n",
    "plt.scatter(y, predicted_salaries, alpha=0.5)\n",
    "plt.plot([y.min(), y.max()], [y.min(), y.max()], 'r--', lw=2)\n",
    "plt.xlabel('Actual Salary')\n",
    "plt.ylabel('Predicted Salary')\n",
    "plt.title('Actual vs Predicted Salary')\n",
    "plt.show()"
   ]
  }
 ],
 "metadata": {
  "kernelspec": {
   "display_name": "Python 3",
   "language": "python",
   "name": "python3"
  },
  "language_info": {
   "codemirror_mode": {
    "name": "ipython",
    "version": 3
   },
   "file_extension": ".py",
   "mimetype": "text/x-python",
   "name": "python",
   "nbconvert_exporter": "python",
   "pygments_lexer": "ipython3",
   "version": "3.11.9"
  }
 },
 "nbformat": 4,
 "nbformat_minor": 2
}
