{
  "cells": [
    {
      "cell_type": "markdown",
      "metadata": {
        "id": "5MVTtWpam8JB"
      },
      "source": [
        "A tensorflow egy olyan gépi tanulást megvalósító modul, amelyet a Google a fejlesztett.\n",
        "\n",
        "Saját adatszerkezetet használ, a tensor-t."
      ]
    },
    {
      "cell_type": "markdown",
      "metadata": {
        "id": "SUDVT5v-nDgu"
      },
      "source": [
        "A tensorok tulajdonképpen többdimenziós tömbök, melyek a numerikus adatokkal történő munkát valósítják meg.\n",
        "\n",
        "A tensorok több gyakran használt attribútummal rendelkeznek, melyek a következők:\n",
        "\n",
        "*   rank - a dimenziók száma\n",
        "*   shape - a dimenziók mérete\n",
        "*   dtype - a tensor típusa\n",
        "\n"
      ]
    },
    {
      "cell_type": "code",
      "source": [],
      "metadata": {
        "id": "aZizWi6Wg-6J"
      },
      "execution_count": null,
      "outputs": []
    },
    {
      "cell_type": "markdown",
      "metadata": {
        "id": "C1Jkep5HnXCU"
      },
      "source": [
        "A tensorflow modul importálása:"
      ]
    },
    {
      "cell_type": "code",
      "execution_count": 1,
      "metadata": {
        "id": "N4qiaYrymzt-"
      },
      "outputs": [],
      "source": [
        "import tensorflow as tf"
      ]
    },
    {
      "cell_type": "markdown",
      "metadata": {
        "id": "DkNTECgQoIqI"
      },
      "source": [
        "Tensor létrehozása:"
      ]
    },
    {
      "cell_type": "code",
      "execution_count": 2,
      "metadata": {
        "colab": {
          "base_uri": "https://localhost:8080/"
        },
        "id": "Ck8x0R9OnbWT",
        "outputId": "7bdf86df-200f-4876-fa13-1a0dd064100a"
      },
      "outputs": [
        {
          "output_type": "execute_result",
          "data": {
            "text/plain": [
              "<tf.Tensor: shape=(), dtype=float32, numpy=10.0>"
            ]
          },
          "metadata": {},
          "execution_count": 2
        }
      ],
      "source": [
        "a = tf.constant(10.0) # skalár\n",
        "a"
      ]
    },
    {
      "cell_type": "markdown",
      "metadata": {
        "id": "2BQ5QkTYoa9B"
      },
      "source": [
        "Tensor adatainak lekérdezése:"
      ]
    },
    {
      "cell_type": "code",
      "execution_count": 3,
      "metadata": {
        "colab": {
          "base_uri": "https://localhost:8080/"
        },
        "id": "RK2tnk2EoYtr",
        "outputId": "68612da4-6907-4cc4-90ca-8e690e056ded"
      },
      "outputs": [
        {
          "output_type": "stream",
          "name": "stdout",
          "text": [
            "tf.Tensor(2, shape=(), dtype=int32)\n"
          ]
        }
      ],
      "source": [
        "example_tensor = tf.constant([[1, 2, 3], [4, 5, 6]]) # mátrix\n",
        "print(tf.rank(example_tensor))"
      ]
    },
    {
      "cell_type": "code",
      "execution_count": 4,
      "metadata": {
        "colab": {
          "base_uri": "https://localhost:8080/"
        },
        "id": "CA_k4btIooS6",
        "outputId": "0f52938e-5391-4c27-ed2a-e516edbfcc0d"
      },
      "outputs": [
        {
          "output_type": "stream",
          "name": "stdout",
          "text": [
            "<dtype: 'int32'>\n"
          ]
        }
      ],
      "source": [
        "print(example_tensor.dtype)"
      ]
    },
    {
      "cell_type": "code",
      "execution_count": 5,
      "metadata": {
        "colab": {
          "base_uri": "https://localhost:8080/"
        },
        "id": "GYjxvupEpnq8",
        "outputId": "7733ecb5-d825-449e-d7b5-34bdb674819a"
      },
      "outputs": [
        {
          "output_type": "stream",
          "name": "stdout",
          "text": [
            "(2, 3)\n"
          ]
        }
      ],
      "source": [
        "print(example_tensor.shape)"
      ]
    },
    {
      "cell_type": "markdown",
      "metadata": {
        "id": "g8BOpmsjrK0d"
      },
      "source": [
        "Indexelés:"
      ]
    },
    {
      "cell_type": "code",
      "execution_count": 6,
      "metadata": {
        "colab": {
          "base_uri": "https://localhost:8080/"
        },
        "id": "WQWeyE6Op26i",
        "outputId": "37452f15-2caf-46ad-aa1e-ddfcb9c351a4"
      },
      "outputs": [
        {
          "output_type": "execute_result",
          "data": {
            "text/plain": [
              "<tf.Tensor: shape=(2, 2), dtype=int32, numpy=\n",
              "array([[2, 3],\n",
              "       [5, 6]], dtype=int32)>"
            ]
          },
          "metadata": {},
          "execution_count": 6
        }
      ],
      "source": [
        "example_tensor[:, 1:]\n"
      ]
    },
    {
      "cell_type": "markdown",
      "metadata": {
        "id": "3x8dEY6BroBn"
      },
      "source": [
        "Múveletvégzés:"
      ]
    },
    {
      "cell_type": "code",
      "execution_count": 7,
      "metadata": {
        "colab": {
          "base_uri": "https://localhost:8080/"
        },
        "id": "0JjmPUFjrSwG",
        "outputId": "044aa019-eba2-4cfc-e85b-2b6a4fb77c82"
      },
      "outputs": [
        {
          "output_type": "execute_result",
          "data": {
            "text/plain": [
              "<tf.Tensor: shape=(2, 3), dtype=int32, numpy=\n",
              "array([[101, 102, 103],\n",
              "       [104, 105, 106]], dtype=int32)>"
            ]
          },
          "metadata": {},
          "execution_count": 7
        }
      ],
      "source": [
        "tf.add(example_tensor, 100)"
      ]
    },
    {
      "cell_type": "code",
      "execution_count": 8,
      "metadata": {
        "colab": {
          "base_uri": "https://localhost:8080/"
        },
        "id": "7WubpS8era_y",
        "outputId": "dfb5d734-bb40-4eb0-a48f-adbfb17c9278"
      },
      "outputs": [
        {
          "output_type": "execute_result",
          "data": {
            "text/plain": [
              "<tf.Tensor: shape=(2, 3), dtype=int32, numpy=\n",
              "array([[ 1,  4,  9],\n",
              "       [16, 25, 36]], dtype=int32)>"
            ]
          },
          "metadata": {},
          "execution_count": 8
        }
      ],
      "source": [
        "tf.square(example_tensor)"
      ]
    },
    {
      "cell_type": "markdown",
      "metadata": {
        "id": "__4riOOFt_Ky"
      },
      "source": [
        "A tensorflow használata leginkább a custom modell-ek, training loop-ok és loss function-ök esetében jellemző.\n",
        "\n",
        "Viszont rendelkezik egy ún. Keras al-modullal, ami egyszerűbb módot biztosít a neurális hálók készítéséhez."
      ]
    },
    {
      "cell_type": "code",
      "execution_count": 9,
      "metadata": {
        "id": "nxtcx-rjr2bs"
      },
      "outputs": [],
      "source": [
        "from tensorflow import keras\n",
        "from matplotlib import pyplot as plt\n",
        "import pandas as pd"
      ]
    },
    {
      "cell_type": "markdown",
      "metadata": {
        "id": "N3eCFzXZ1htb"
      },
      "source": [
        "A fashion dataset betöltése:"
      ]
    },
    {
      "cell_type": "code",
      "execution_count": 10,
      "metadata": {
        "id": "DkNbGaEax8yZ"
      },
      "outputs": [],
      "source": [
        "fashion = keras.datasets.fashion_mnist"
      ]
    },
    {
      "cell_type": "code",
      "execution_count": 11,
      "metadata": {
        "colab": {
          "base_uri": "https://localhost:8080/"
        },
        "id": "duNZb1FE13Zl",
        "outputId": "cd2ce865-6df4-4441-c097-6fd090e7b354"
      },
      "outputs": [
        {
          "output_type": "stream",
          "name": "stdout",
          "text": [
            "Downloading data from https://storage.googleapis.com/tensorflow/tf-keras-datasets/train-labels-idx1-ubyte.gz\n",
            "\u001b[1m29515/29515\u001b[0m \u001b[32m━━━━━━━━━━━━━━━━━━━━\u001b[0m\u001b[37m\u001b[0m \u001b[1m0s\u001b[0m 0us/step\n",
            "Downloading data from https://storage.googleapis.com/tensorflow/tf-keras-datasets/train-images-idx3-ubyte.gz\n",
            "\u001b[1m26421880/26421880\u001b[0m \u001b[32m━━━━━━━━━━━━━━━━━━━━\u001b[0m\u001b[37m\u001b[0m \u001b[1m0s\u001b[0m 0us/step\n",
            "Downloading data from https://storage.googleapis.com/tensorflow/tf-keras-datasets/t10k-labels-idx1-ubyte.gz\n",
            "\u001b[1m5148/5148\u001b[0m \u001b[32m━━━━━━━━━━━━━━━━━━━━\u001b[0m\u001b[37m\u001b[0m \u001b[1m0s\u001b[0m 1us/step\n",
            "Downloading data from https://storage.googleapis.com/tensorflow/tf-keras-datasets/t10k-images-idx3-ubyte.gz\n",
            "\u001b[1m4422102/4422102\u001b[0m \u001b[32m━━━━━━━━━━━━━━━━━━━━\u001b[0m\u001b[37m\u001b[0m \u001b[1m0s\u001b[0m 0us/step\n"
          ]
        }
      ],
      "source": [
        "data = fashion.load_data()"
      ]
    },
    {
      "cell_type": "code",
      "execution_count": 12,
      "metadata": {
        "colab": {
          "base_uri": "https://localhost:8080/"
        },
        "id": "rQ4dTr9k17E_",
        "outputId": "78ea4608-5706-4b73-a60b-d1f48329405f"
      },
      "outputs": [
        {
          "output_type": "stream",
          "name": "stdout",
          "text": [
            "<class 'tuple'>\n",
            "2\n"
          ]
        }
      ],
      "source": [
        "print(type(data))\n",
        "print(len(data))"
      ]
    },
    {
      "cell_type": "code",
      "execution_count": 13,
      "metadata": {
        "id": "KlMoaJzi1ogm"
      },
      "outputs": [],
      "source": [
        "train, test = data"
      ]
    },
    {
      "cell_type": "code",
      "execution_count": null,
      "metadata": {
        "colab": {
          "base_uri": "https://localhost:8080/"
        },
        "id": "dTi2y2uQ259T",
        "outputId": "79462a77-fb2a-479b-a3a8-903227a9cca8"
      },
      "outputs": [
        {
          "output_type": "stream",
          "name": "stdout",
          "text": [
            "<class 'tuple'>\n",
            "2\n",
            "---\n",
            "<class 'tuple'>\n",
            "2\n"
          ]
        }
      ],
      "source": [
        "print(type(train))\n",
        "print(len(train))\n",
        "print(\"---\")\n",
        "print(type(test))\n",
        "print(len(test))"
      ]
    },
    {
      "cell_type": "code",
      "execution_count": 14,
      "metadata": {
        "id": "b1S0qTqs26_X"
      },
      "outputs": [],
      "source": [
        "train_x, train_y = train\n",
        "test_x, test_y = test"
      ]
    },
    {
      "cell_type": "code",
      "execution_count": 15,
      "metadata": {
        "colab": {
          "base_uri": "https://localhost:8080/"
        },
        "id": "yMYgL--t3MVe",
        "outputId": "efc25182-4855-4b58-ebb5-cab9b1cab553"
      },
      "outputs": [
        {
          "output_type": "stream",
          "name": "stdout",
          "text": [
            "<class 'numpy.ndarray'>\n",
            "60000\n"
          ]
        }
      ],
      "source": [
        "print(type(train_x))\n",
        "print(len(train_x))"
      ]
    },
    {
      "cell_type": "code",
      "execution_count": 16,
      "metadata": {
        "colab": {
          "base_uri": "https://localhost:8080/"
        },
        "id": "pn26t7nX3QMg",
        "outputId": "5c70819c-b3ff-45db-adb6-a91318bc59e7"
      },
      "outputs": [
        {
          "output_type": "stream",
          "name": "stdout",
          "text": [
            "(60000, 28, 28)\n"
          ]
        },
        {
          "output_type": "execute_result",
          "data": {
            "text/plain": [
              "dtype('uint8')"
            ]
          },
          "metadata": {},
          "execution_count": 16
        }
      ],
      "source": [
        "print(train_x.shape)\n",
        "train_x.dtype"
      ]
    },
    {
      "cell_type": "code",
      "execution_count": 17,
      "metadata": {
        "id": "qmSCVEK-4lA_"
      },
      "outputs": [],
      "source": [
        "class_names = [\"Póló\", \"Nadrág\", \"Pulóver\", \"Egyrészes ruha\", \"Kabát\",\n",
        " \"Szandál\", \"Ing\", \"Cipő\", \"Táska\", \"Bakancs\"]\n"
      ]
    },
    {
      "cell_type": "markdown",
      "metadata": {
        "id": "Ezgu1jUQ5V9c"
      },
      "source": [
        "Egy példa kép megjelenítése:"
      ]
    },
    {
      "cell_type": "code",
      "execution_count": 18,
      "metadata": {
        "colab": {
          "base_uri": "https://localhost:8080/",
          "height": 133
        },
        "id": "npmJwsez36Yh",
        "outputId": "1ef21540-cd28-4110-c019-a9ef60cc4431"
      },
      "outputs": [
        {
          "output_type": "display_data",
          "data": {
            "text/plain": [
              "<Figure size 100x100 with 1 Axes>"
            ],
            "image/png": "[encoded data removed]"
          },
          "metadata": {}
        }
      ],
      "source": [
        "plt.figure(figsize=(1,1))\n",
        "plt.xticks([])\n",
        "plt.yticks([])\n",
        "plt.imshow(train_x[5], cmap=plt.cm.binary)\n",
        "plt.xlabel(class_names[train_y[5]])\n",
        "plt.show()"
      ]
    },
    {
      "cell_type": "code",
      "execution_count": 19,
      "metadata": {
        "colab": {
          "base_uri": "https://localhost:8080/"
        },
        "id": "ZWDt8HbP5sAv",
        "outputId": "cd713e43-0709-4f58-ecbe-be078718c618"
      },
      "outputs": [
        {
          "output_type": "execute_result",
          "data": {
            "text/plain": [
              "(28, 28)"
            ]
          },
          "metadata": {},
          "execution_count": 19
        }
      ],
      "source": [
        "train_x[0].shape"
      ]
    },
    {
      "cell_type": "markdown",
      "metadata": {
        "id": "68rpmxiT5gL7"
      },
      "source": [
        "Adatok normalizálása a gyorsabb, hatékonyabb tanulás érdekében:"
      ]
    },
    {
      "cell_type": "code",
      "execution_count": 20,
      "metadata": {
        "id": "CXxBX0JY43DB"
      },
      "outputs": [],
      "source": [
        "normalized_train_x = train_x / 255.0\n",
        "normalized_test_x = test_x / 255.0"
      ]
    },
    {
      "cell_type": "markdown",
      "metadata": {
        "id": "DVYW-pp2-uti"
      },
      "source": [
        "Ez a kód két dolgot csinál:\n",
        "\n",
        "Először a train_x adathalmazt két részre osztja: az első 5000 elemet a validation_x változóba teszi, a maradékot pedig a train_x változóban hagyja. Az osztás 255.0-val a képpontok értékének normalizálását jelenti, ami gyakori lépés a képfeldolgozásban. A képpontok értékei általában 0 és 255 között vannak, így az osztás eredménye egy 0.0 és 1.0 közötti érték lesz.\n",
        "\n",
        "A második sorban ugyanezt csinálja a train_y adathalmazzal, de itt nincs osztás, mert feltételezhetően a train_y címkék vagy kategóriák, amiket nem kell normalizálni.\n",
        "\n",
        "Összefoglalva, ez a kód létrehoz egy validációs halmazt (az első 5000 elemet használva) és egy tanító halmazt (a maradék elemeket használva), és normalizálja a képpontok értékeit a train_x adathalmazban.\n",
        "\n",
        "Mivel az adathalmaz nem rendelkezik validation adatokkal, ezért kézzel kell létrehozni őket (már a normalizálással együtt):\n",
        "A validációs halmazt általában a modell hiperparamétereinek finomhangolására és a modell teljesítményének értékelésére használják a tanítási folyamat során, de még a tesztelés előtt.\n",
        "\n",
        "A tanítási adathalmazon tanítjuk a modellt, majd a validációs halmazon értékeljük a modell teljesítményét. Ez lehetővé teszi, hogy lássuk, hogyan teljesít a modell olyan adatokon, amelyeket még nem látott, de mégis hasonlóak a tanítási adathalmazhoz. Ez segít elkerülni az úgynevezett túltanulást (overfitting), ami akkor történik, amikor a modell túl jól illeszkedik a tanítási adatokhoz, de nem képes jól teljesíteni új, ismeretlen adatokon.\n",
        "\n",
        "A validációs halmaz tehát segít abban, hogy a modellünk ne csak a tanítási adatokra legyen optimalizálva, hanem új, ismeretlen adatokra is jól tudjon teljesíteni."
      ]
    },
    {
      "cell_type": "code",
      "execution_count": 21,
      "metadata": {
        "id": "A-6f1LFW_APp"
      },
      "outputs": [],
      "source": [
        "validation_x, train_x = train_x[:5000] / 255.0, train_x[5000:] / 255.0\n",
        "validation_y, train_y = train_y[:5000], train_y[5000:]"
      ]
    },
    {
      "cell_type": "markdown",
      "metadata": {
        "id": "sDKICqhA7DCg"
      },
      "source": [
        "**A modell felépítése:**"
      ]
    },
    {
      "cell_type": "markdown",
      "metadata": {
        "id": "0QcokWey7pqP"
      },
      "source": [
        "Egy szekvenciális modell példány elkészítése:"
      ]
    },
    {
      "cell_type": "code",
      "execution_count": 22,
      "metadata": {
        "id": "Zx5YAm-d7BSR"
      },
      "outputs": [],
      "source": [
        "model = keras.models.Sequential()"
      ]
    },
    {
      "cell_type": "code",
      "source": [
        "print(28*28)"
      ],
      "metadata": {
        "colab": {
          "base_uri": "https://localhost:8080/"
        },
        "id": "Mxpglb6-4cuc",
        "outputId": "a7697940-5010-48ac-9f6a-91d52431d099"
      },
      "execution_count": 23,
      "outputs": [
        {
          "output_type": "stream",
          "name": "stdout",
          "text": [
            "784\n"
          ]
        }
      ]
    },
    {
      "cell_type": "markdown",
      "metadata": {
        "id": "5jxyI_Rd7uQ9"
      },
      "source": [
        "Az első, azaz a Flatten réteg hozzáadása a modellhez.\n",
        "\n",
        "Ennek a rétegnek csak előkészítési célja van. 1 dimenziós tömbbé konvertálja a bemeneti 28x28-as adatokat"
      ]
    },
    {
      "cell_type": "code",
      "execution_count": 24,
      "metadata": {
        "id": "xK41SD6z8I8W",
        "colab": {
          "base_uri": "https://localhost:8080/"
        },
        "outputId": "1177b89b-3897-4c38-9eb1-8f449dbc37f0"
      },
      "outputs": [
        {
          "output_type": "stream",
          "name": "stderr",
          "text": [
            "/usr/local/lib/python3.10/dist-packages/keras/src/layers/reshaping/flatten.py:37: UserWarning: Do not pass an `input_shape`/`input_dim` argument to a layer. When using Sequential models, prefer using an `Input(shape)` object as the first layer in the model instead.\n",
            "  super().__init__(**kwargs)\n"
          ]
        }
      ],
      "source": [
        "model.add(keras.layers.Flatten(input_shape=[28, 28]))"
      ]
    },
    {
      "cell_type": "markdown",
      "metadata": {
        "id": "aHsoA-Vq8LL_"
      },
      "source": [
        "A rejtett rétegek hozzáadása.\n",
        "\n",
        "Ezekben a rétegekben történik a hálózat tanítása. Mindegyik réteg a saját súlyait és kapcsolatait kezeli."
      ]
    },
    {
      "cell_type": "code",
      "execution_count": 25,
      "metadata": {
        "id": "zCBfhJOT8yNW"
      },
      "outputs": [],
      "source": [
        "model.add(keras.layers.Dense(300, activation=\"relu\"))\n",
        "model.add(keras.layers.Dense(100, activation=\"relu\"))"
      ]
    },
    {
      "cell_type": "markdown",
      "metadata": {
        "id": "84X55qSc82z2"
      },
      "source": [
        "A kimenetet előállító réteg hozzáadása.\n",
        "\n",
        "A softmax aktivációs függvény valószínűségeket fog rendelni az összes csoporthoz, amely szerepel a tanuló adatokban(ebben az esetben 10 csoport)\n",
        "\n",
        "A második paraméter, az activation=\"softmax\", azt jelenti, hogy a softmax aktivációs függvényt használjuk. A softmax függvényt gyakran használják a kimeneti rétegben többosztályos osztályozási problémák esetén, mert a softmax függvény kimenetei valószínűségi értékek, amelyek összege 1. Ez lehetővé teszi, hogy a modell kimenetei közvetlenül értelmezhetők legyenek valószínűségekként."
      ]
    },
    {
      "cell_type": "code",
      "execution_count": 26,
      "metadata": {
        "id": "IFQyCK6y9dcO"
      },
      "outputs": [],
      "source": [
        "model.add(keras.layers.Dense(10, activation=\"softmax\"))"
      ]
    },
    {
      "cell_type": "markdown",
      "metadata": {
        "id": "f_pdnCVB9mln"
      },
      "source": [
        "Egyanezt a modell létrehozást meg lehet adni egy rövidebb alak formájában is:\n",
        "\n",
        "A második paraméter, az activation=\"relu\", azt jelenti, hogy a ReLU (Rectified Linear Unit) aktivációs függvényt használjuk. A ReLU függvény a bemenetét 0-ra állítja, ha az negatív, és hagyja változatlanul, ha az pozitív. Ez a függvény gyakran használt aktivációs függvény mély neurális hálózatokban, mert segít a gradiens eltűnésének problémájának kezelésében, ami gyakori probléma a mély neurális hálózatok tanítása során.\n",
        "\n",
        "A gradiens eltűnése probléma a mély neurális hálózatok tanításának gyakori problémája, különösen a hagyományos aktivációs függvények, mint például a szigmoid és a tanh használatakor. A probléma lényege, hogy a hálózat mélyebb rétegeiben a gradiensek (amelyek a hiba visszaterjesztésének (backpropagation) során számítódnak ki) nagyon kicsivé válhatnak. Ez azt eredményezi, hogy a súlyok frissítése minimálisra csökken, így a tanulási folyamat lassúvá vagy akár megállhat."
      ]
    },
    {
      "cell_type": "code",
      "execution_count": 27,
      "metadata": {
        "id": "-DLzxD1j9tq1"
      },
      "outputs": [],
      "source": [
        "shorter_form = keras.models.Sequential([\n",
        "  keras.layers.Flatten(input_shape=[28, 28]),\n",
        "  keras.layers.Dense(300, activation=\"relu\"),\n",
        "  keras.layers.Dense(100, activation=\"relu\"),\n",
        "  keras.layers.Dense(10, activation=\"softmax\")\n",
        "])"
      ]
    },
    {
      "cell_type": "markdown",
      "metadata": {
        "id": "l75aoyLJ934Z"
      },
      "source": [
        "A modell vizualizációja:"
      ]
    },
    {
      "cell_type": "code",
      "execution_count": 28,
      "metadata": {
        "colab": {
          "base_uri": "https://localhost:8080/",
          "height": 265
        },
        "id": "1DXN_q0f96uK",
        "outputId": "58c4e364-eec6-4b49-f02b-77b68db4a723"
      },
      "outputs": [
        {
          "output_type": "display_data",
          "data": {
            "text/plain": [
              "\u001b[1mModel: \"sequential\"\u001b[0m\n"
            ],
            "text/html": [
              "<pre style=\"white-space:pre;overflow-x:auto;line-height:normal;font-family:Menlo,'DejaVu Sans Mono',consolas,'Courier New',monospace\"><span style=\"font-weight: bold\">Model: \"sequential\"</span>\n",
              "</pre>\n"
            ]
          },
          "metadata": {}
        },
        {
          "output_type": "display_data",
          "data": {
            "text/plain": [
              "┏━━━━━━━━━━━━━━━━━━━━━━━━━━━━━━━━━━━━━━┳━━━━━━━━━━━━━━━━━━━━━━━━━━━━━┳━━━━━━━━━━━━━━━━━┓\n",
              "┃\u001b[1m \u001b[0m\u001b[1mLayer (type)                        \u001b[0m\u001b[1m \u001b[0m┃\u001b[1m \u001b[0m\u001b[1mOutput Shape               \u001b[0m\u001b[1m \u001b[0m┃\u001b[1m \u001b[0m\u001b[1m        Param #\u001b[0m\u001b[1m \u001b[0m┃\n",
              "┡━━━━━━━━━━━━━━━━━━━━━━━━━━━━━━━━━━━━━━╇━━━━━━━━━━━━━━━━━━━━━━━━━━━━━╇━━━━━━━━━━━━━━━━━┩\n",
              "│ flatten (\u001b[38;5;33mFlatten\u001b[0m)                    │ (\u001b[38;5;45mNone\u001b[0m, \u001b[38;5;34m784\u001b[0m)                 │               \u001b[38;5;34m0\u001b[0m │\n",
              "├──────────────────────────────────────┼─────────────────────────────┼─────────────────┤\n",
              "│ dense (\u001b[38;5;33mDense\u001b[0m)                        │ (\u001b[38;5;45mNone\u001b[0m, \u001b[38;5;34m300\u001b[0m)                 │         \u001b[38;5;34m235,500\u001b[0m │\n",
              "├──────────────────────────────────────┼─────────────────────────────┼─────────────────┤\n",
              "│ dense_1 (\u001b[38;5;33mDense\u001b[0m)                      │ (\u001b[38;5;45mNone\u001b[0m, \u001b[38;5;34m100\u001b[0m)                 │          \u001b[38;5;34m30,100\u001b[0m │\n",
              "├──────────────────────────────────────┼─────────────────────────────┼─────────────────┤\n",
              "│ dense_2 (\u001b[38;5;33mDense\u001b[0m)                      │ (\u001b[38;5;45mNone\u001b[0m, \u001b[38;5;34m10\u001b[0m)                  │           \u001b[38;5;34m1,010\u001b[0m │\n",
              "└──────────────────────────────────────┴─────────────────────────────┴─────────────────┘\n"
            ],
            "text/html": [
              "<pre style=\"white-space:pre;overflow-x:auto;line-height:normal;font-family:Menlo,'DejaVu Sans Mono',consolas,'Courier New',monospace\">┏━━━━━━━━━━━━━━━━━━━━━━━━━━━━━━━━━━━━━━┳━━━━━━━━━━━━━━━━━━━━━━━━━━━━━┳━━━━━━━━━━━━━━━━━┓\n",
              "┃<span style=\"font-weight: bold\"> Layer (type)                         </span>┃<span style=\"font-weight: bold\"> Output Shape                </span>┃<span style=\"font-weight: bold\">         Param # </span>┃\n",
              "┡━━━━━━━━━━━━━━━━━━━━━━━━━━━━━━━━━━━━━━╇━━━━━━━━━━━━━━━━━━━━━━━━━━━━━╇━━━━━━━━━━━━━━━━━┩\n",
              "│ flatten (<span style=\"color: #0087ff; text-decoration-color: #0087ff\">Flatten</span>)                    │ (<span style=\"color: #00d7ff; text-decoration-color: #00d7ff\">None</span>, <span style=\"color: #00af00; text-decoration-color: #00af00\">784</span>)                 │               <span style=\"color: #00af00; text-decoration-color: #00af00\">0</span> │\n",
              "├──────────────────────────────────────┼─────────────────────────────┼─────────────────┤\n",
              "│ dense (<span style=\"color: #0087ff; text-decoration-color: #0087ff\">Dense</span>)                        │ (<span style=\"color: #00d7ff; text-decoration-color: #00d7ff\">None</span>, <span style=\"color: #00af00; text-decoration-color: #00af00\">300</span>)                 │         <span style=\"color: #00af00; text-decoration-color: #00af00\">235,500</span> │\n",
              "├──────────────────────────────────────┼─────────────────────────────┼─────────────────┤\n",
              "│ dense_1 (<span style=\"color: #0087ff; text-decoration-color: #0087ff\">Dense</span>)                      │ (<span style=\"color: #00d7ff; text-decoration-color: #00d7ff\">None</span>, <span style=\"color: #00af00; text-decoration-color: #00af00\">100</span>)                 │          <span style=\"color: #00af00; text-decoration-color: #00af00\">30,100</span> │\n",
              "├──────────────────────────────────────┼─────────────────────────────┼─────────────────┤\n",
              "│ dense_2 (<span style=\"color: #0087ff; text-decoration-color: #0087ff\">Dense</span>)                      │ (<span style=\"color: #00d7ff; text-decoration-color: #00d7ff\">None</span>, <span style=\"color: #00af00; text-decoration-color: #00af00\">10</span>)                  │           <span style=\"color: #00af00; text-decoration-color: #00af00\">1,010</span> │\n",
              "└──────────────────────────────────────┴─────────────────────────────┴─────────────────┘\n",
              "</pre>\n"
            ]
          },
          "metadata": {}
        },
        {
          "output_type": "display_data",
          "data": {
            "text/plain": [
              "\u001b[1m Total params: \u001b[0m\u001b[38;5;34m266,610\u001b[0m (1.02 MB)\n"
            ],
            "text/html": [
              "<pre style=\"white-space:pre;overflow-x:auto;line-height:normal;font-family:Menlo,'DejaVu Sans Mono',consolas,'Courier New',monospace\"><span style=\"font-weight: bold\"> Total params: </span><span style=\"color: #00af00; text-decoration-color: #00af00\">266,610</span> (1.02 MB)\n",
              "</pre>\n"
            ]
          },
          "metadata": {}
        },
        {
          "output_type": "display_data",
          "data": {
            "text/plain": [
              "\u001b[1m Trainable params: \u001b[0m\u001b[38;5;34m266,610\u001b[0m (1.02 MB)\n"
            ],
            "text/html": [
              "<pre style=\"white-space:pre;overflow-x:auto;line-height:normal;font-family:Menlo,'DejaVu Sans Mono',consolas,'Courier New',monospace\"><span style=\"font-weight: bold\"> Trainable params: </span><span style=\"color: #00af00; text-decoration-color: #00af00\">266,610</span> (1.02 MB)\n",
              "</pre>\n"
            ]
          },
          "metadata": {}
        },
        {
          "output_type": "display_data",
          "data": {
            "text/plain": [
              "\u001b[1m Non-trainable params: \u001b[0m\u001b[38;5;34m0\u001b[0m (0.00 B)\n"
            ],
            "text/html": [
              "<pre style=\"white-space:pre;overflow-x:auto;line-height:normal;font-family:Menlo,'DejaVu Sans Mono',consolas,'Courier New',monospace\"><span style=\"font-weight: bold\"> Non-trainable params: </span><span style=\"color: #00af00; text-decoration-color: #00af00\">0</span> (0.00 B)\n",
              "</pre>\n"
            ]
          },
          "metadata": {}
        }
      ],
      "source": [
        "model.summary()"
      ]
    },
    {
      "cell_type": "markdown",
      "metadata": {
        "id": "Bn20WK_z-F-t"
      },
      "source": [
        "A modell lefordítása(véglegesítése):"
      ]
    },
    {
      "cell_type": "code",
      "execution_count": 29,
      "metadata": {
        "id": "Zv3UNkqd98Lz"
      },
      "outputs": [],
      "source": [
        "model.compile(loss=\"sparse_categorical_crossentropy\",\n",
        " optimizer=\"sgd\",\n",
        " metrics=[\"accuracy\"])"
      ]
    },
    {
      "cell_type": "markdown",
      "metadata": {
        "id": "YGEOhTcd-YHy"
      },
      "source": [
        "A modell tanítása:\n",
        "The current metrics show that the training accuracy is around 89.67%, with a loss of 0.2887. The validation accuracy is slightly lower at 88.80%, with a corresponding validation loss of 0.3150.\n",
        "\n",
        "  A jelenlegi mérőszámok azt mutatják, hogy a képzési pontosság 89,67% körüli, a veszteség pedig 0,2887. A validálási pontosság valamivel alacsonyabb, 88,80%, a megfelelő validálási veszteség 0,3150."
      ]
    },
    {
      "cell_type": "code",
      "execution_count": 30,
      "metadata": {
        "colab": {
          "base_uri": "https://localhost:8080/"
        },
        "id": "PZYI1aLz-Ze_",
        "outputId": "02c78f50-f0e3-478b-99ab-42cc1a7c472c"
      },
      "outputs": [
        {
          "output_type": "stream",
          "name": "stdout",
          "text": [
            "Epoch 1/30\n",
            "\u001b[1m1719/1719\u001b[0m \u001b[32m━━━━━━━━━━━━━━━━━━━━\u001b[0m\u001b[37m\u001b[0m \u001b[1m8s\u001b[0m 4ms/step - accuracy: 0.6789 - loss: 1.0274 - val_accuracy: 0.8242 - val_loss: 0.5193\n",
            "Epoch 2/30\n",
            "\u001b[1m1719/1719\u001b[0m \u001b[32m━━━━━━━━━━━━━━━━━━━━\u001b[0m\u001b[37m\u001b[0m \u001b[1m10s\u001b[0m 4ms/step - accuracy: 0.8231 - loss: 0.5098 - val_accuracy: 0.8350 - val_loss: 0.4723\n",
            "Epoch 3/30\n",
            "\u001b[1m1719/1719\u001b[0m \u001b[32m━━━━━━━━━━━━━━━━━━━━\u001b[0m\u001b[37m\u001b[0m \u001b[1m10s\u001b[0m 4ms/step - accuracy: 0.8416 - loss: 0.4550 - val_accuracy: 0.8596 - val_loss: 0.4081\n",
            "Epoch 4/30\n",
            "\u001b[1m1719/1719\u001b[0m \u001b[32m━━━━━━━━━━━━━━━━━━━━\u001b[0m\u001b[37m\u001b[0m \u001b[1m12s\u001b[0m 5ms/step - accuracy: 0.8508 - loss: 0.4219 - val_accuracy: 0.8666 - val_loss: 0.3932\n",
            "Epoch 5/30\n",
            "\u001b[1m1719/1719\u001b[0m \u001b[32m━━━━━━━━━━━━━━━━━━━━\u001b[0m\u001b[37m\u001b[0m \u001b[1m8s\u001b[0m 5ms/step - accuracy: 0.8574 - loss: 0.4043 - val_accuracy: 0.8658 - val_loss: 0.3845\n",
            "Epoch 6/30\n",
            "\u001b[1m1719/1719\u001b[0m \u001b[32m━━━━━━━━━━━━━━━━━━━━\u001b[0m\u001b[37m\u001b[0m \u001b[1m7s\u001b[0m 4ms/step - accuracy: 0.8623 - loss: 0.3847 - val_accuracy: 0.8736 - val_loss: 0.3702\n",
            "Epoch 7/30\n",
            "\u001b[1m1719/1719\u001b[0m \u001b[32m━━━━━━━━━━━━━━━━━━━━\u001b[0m\u001b[37m\u001b[0m \u001b[1m8s\u001b[0m 5ms/step - accuracy: 0.8687 - loss: 0.3661 - val_accuracy: 0.8698 - val_loss: 0.3640\n",
            "Epoch 8/30\n",
            "\u001b[1m1719/1719\u001b[0m \u001b[32m━━━━━━━━━━━━━━━━━━━━\u001b[0m\u001b[37m\u001b[0m \u001b[1m9s\u001b[0m 4ms/step - accuracy: 0.8751 - loss: 0.3534 - val_accuracy: 0.8700 - val_loss: 0.3662\n",
            "Epoch 9/30\n",
            "\u001b[1m1719/1719\u001b[0m \u001b[32m━━━━━━━━━━━━━━━━━━━━\u001b[0m\u001b[37m\u001b[0m \u001b[1m9s\u001b[0m 5ms/step - accuracy: 0.8754 - loss: 0.3464 - val_accuracy: 0.8760 - val_loss: 0.3453\n",
            "Epoch 10/30\n",
            "\u001b[1m1719/1719\u001b[0m \u001b[32m━━━━━━━━━━━━━━━━━━━━\u001b[0m\u001b[37m\u001b[0m \u001b[1m10s\u001b[0m 5ms/step - accuracy: 0.8841 - loss: 0.3288 - val_accuracy: 0.8814 - val_loss: 0.3410\n",
            "Epoch 11/30\n",
            "\u001b[1m1719/1719\u001b[0m \u001b[32m━━━━━━━━━━━━━━━━━━━━\u001b[0m\u001b[37m\u001b[0m \u001b[1m7s\u001b[0m 4ms/step - accuracy: 0.8821 - loss: 0.3247 - val_accuracy: 0.8724 - val_loss: 0.3500\n",
            "Epoch 12/30\n",
            "\u001b[1m1719/1719\u001b[0m \u001b[32m━━━━━━━━━━━━━━━━━━━━\u001b[0m\u001b[37m\u001b[0m \u001b[1m8s\u001b[0m 5ms/step - accuracy: 0.8866 - loss: 0.3186 - val_accuracy: 0.8812 - val_loss: 0.3323\n",
            "Epoch 13/30\n",
            "\u001b[1m1719/1719\u001b[0m \u001b[32m━━━━━━━━━━━━━━━━━━━━\u001b[0m\u001b[37m\u001b[0m \u001b[1m10s\u001b[0m 5ms/step - accuracy: 0.8867 - loss: 0.3106 - val_accuracy: 0.8798 - val_loss: 0.3310\n",
            "Epoch 14/30\n",
            "\u001b[1m1719/1719\u001b[0m \u001b[32m━━━━━━━━━━━━━━━━━━━━\u001b[0m\u001b[37m\u001b[0m \u001b[1m8s\u001b[0m 4ms/step - accuracy: 0.8869 - loss: 0.3079 - val_accuracy: 0.8788 - val_loss: 0.3343\n",
            "Epoch 15/30\n",
            "\u001b[1m1719/1719\u001b[0m \u001b[32m━━━━━━━━━━━━━━━━━━━━\u001b[0m\u001b[37m\u001b[0m \u001b[1m11s\u001b[0m 5ms/step - accuracy: 0.8924 - loss: 0.2982 - val_accuracy: 0.8898 - val_loss: 0.3209\n",
            "Epoch 16/30\n",
            "\u001b[1m1719/1719\u001b[0m \u001b[32m━━━━━━━━━━━━━━━━━━━━\u001b[0m\u001b[37m\u001b[0m \u001b[1m10s\u001b[0m 5ms/step - accuracy: 0.8967 - loss: 0.2887 - val_accuracy: 0.8880 - val_loss: 0.3150\n",
            "Epoch 17/30\n",
            "\u001b[1m1719/1719\u001b[0m \u001b[32m━━━━━━━━━━━━━━━━━━━━\u001b[0m\u001b[37m\u001b[0m \u001b[1m9s\u001b[0m 4ms/step - accuracy: 0.8967 - loss: 0.2845 - val_accuracy: 0.8796 - val_loss: 0.3309\n",
            "Epoch 18/30\n",
            "\u001b[1m1719/1719\u001b[0m \u001b[32m━━━━━━━━━━━━━━━━━━━━\u001b[0m\u001b[37m\u001b[0m \u001b[1m10s\u001b[0m 4ms/step - accuracy: 0.8961 - loss: 0.2830 - val_accuracy: 0.8862 - val_loss: 0.3136\n",
            "Epoch 19/30\n",
            "\u001b[1m1719/1719\u001b[0m \u001b[32m━━━━━━━━━━━━━━━━━━━━\u001b[0m\u001b[37m\u001b[0m \u001b[1m14s\u001b[0m 6ms/step - accuracy: 0.9011 - loss: 0.2714 - val_accuracy: 0.8856 - val_loss: 0.3129\n",
            "Epoch 20/30\n",
            "\u001b[1m1719/1719\u001b[0m \u001b[32m━━━━━━━━━━━━━━━━━━━━\u001b[0m\u001b[37m\u001b[0m \u001b[1m19s\u001b[0m 5ms/step - accuracy: 0.9030 - loss: 0.2682 - val_accuracy: 0.8898 - val_loss: 0.3112\n",
            "Epoch 21/30\n",
            "\u001b[1m1719/1719\u001b[0m \u001b[32m━━━━━━━━━━━━━━━━━━━━\u001b[0m\u001b[37m\u001b[0m \u001b[1m7s\u001b[0m 4ms/step - accuracy: 0.9006 - loss: 0.2719 - val_accuracy: 0.8802 - val_loss: 0.3163\n",
            "Epoch 22/30\n",
            "\u001b[1m1719/1719\u001b[0m \u001b[32m━━━━━━━━━━━━━━━━━━━━\u001b[0m\u001b[37m\u001b[0m \u001b[1m8s\u001b[0m 5ms/step - accuracy: 0.9065 - loss: 0.2597 - val_accuracy: 0.8922 - val_loss: 0.3004\n",
            "Epoch 23/30\n",
            "\u001b[1m1719/1719\u001b[0m \u001b[32m━━━━━━━━━━━━━━━━━━━━\u001b[0m\u001b[37m\u001b[0m \u001b[1m10s\u001b[0m 5ms/step - accuracy: 0.9105 - loss: 0.2527 - val_accuracy: 0.8874 - val_loss: 0.3079\n",
            "Epoch 24/30\n",
            "\u001b[1m1719/1719\u001b[0m \u001b[32m━━━━━━━━━━━━━━━━━━━━\u001b[0m\u001b[37m\u001b[0m \u001b[1m11s\u001b[0m 6ms/step - accuracy: 0.9071 - loss: 0.2571 - val_accuracy: 0.8940 - val_loss: 0.2983\n",
            "Epoch 25/30\n",
            "\u001b[1m1719/1719\u001b[0m \u001b[32m━━━━━━━━━━━━━━━━━━━━\u001b[0m\u001b[37m\u001b[0m \u001b[1m9s\u001b[0m 5ms/step - accuracy: 0.9091 - loss: 0.2462 - val_accuracy: 0.8926 - val_loss: 0.3035\n",
            "Epoch 26/30\n",
            "\u001b[1m1719/1719\u001b[0m \u001b[32m━━━━━━━━━━━━━━━━━━━━\u001b[0m\u001b[37m\u001b[0m \u001b[1m10s\u001b[0m 5ms/step - accuracy: 0.9129 - loss: 0.2435 - val_accuracy: 0.8920 - val_loss: 0.2978\n",
            "Epoch 27/30\n",
            "\u001b[1m1719/1719\u001b[0m \u001b[32m━━━━━━━━━━━━━━━━━━━━\u001b[0m\u001b[37m\u001b[0m \u001b[1m10s\u001b[0m 6ms/step - accuracy: 0.9129 - loss: 0.2398 - val_accuracy: 0.8862 - val_loss: 0.3082\n",
            "Epoch 28/30\n",
            "\u001b[1m1719/1719\u001b[0m \u001b[32m━━━━━━━━━━━━━━━━━━━━\u001b[0m\u001b[37m\u001b[0m \u001b[1m10s\u001b[0m 6ms/step - accuracy: 0.9163 - loss: 0.2340 - val_accuracy: 0.8936 - val_loss: 0.3010\n",
            "Epoch 29/30\n",
            "\u001b[1m1719/1719\u001b[0m \u001b[32m━━━━━━━━━━━━━━━━━━━━\u001b[0m\u001b[37m\u001b[0m \u001b[1m10s\u001b[0m 6ms/step - accuracy: 0.9185 - loss: 0.2262 - val_accuracy: 0.8898 - val_loss: 0.3149\n",
            "Epoch 30/30\n",
            "\u001b[1m1719/1719\u001b[0m \u001b[32m━━━━━━━━━━━━━━━━━━━━\u001b[0m\u001b[37m\u001b[0m \u001b[1m7s\u001b[0m 4ms/step - accuracy: 0.9196 - loss: 0.2226 - val_accuracy: 0.8940 - val_loss: 0.3011\n"
          ]
        }
      ],
      "source": [
        "history = model.fit(train_x, train_y, epochs=30,\n",
        "                    validation_data=(validation_x, validation_y))\n"
      ]
    },
    {
      "cell_type": "markdown",
      "metadata": {
        "id": "mblH6KtCJC3r"
      },
      "source": [
        "A tanulás során elért eredmények vizualizációja:"
      ]
    },
    {
      "cell_type": "code",
      "execution_count": 31,
      "metadata": {
        "colab": {
          "base_uri": "https://localhost:8080/",
          "height": 451
        },
        "id": "YwrVO_KK_gVr",
        "outputId": "68113484-a5d2-4e4d-d82d-9dde8fa8c82d"
      },
      "outputs": [
        {
          "output_type": "display_data",
          "data": {
            "text/plain": [
              "<Figure size 800x500 with 1 Axes>"
            ],
            "image/png": "[encoded data removed]"
          },
          "metadata": {}
        }
      ],
      "source": [
        "pd.DataFrame(history.history).plot(figsize=(8, 5))\n",
        "plt.grid(True)\n",
        "plt.gca().set_ylim(0, 1) # a függőleges tengely skálázása 0 és 1 közé\n",
        "plt.show()"
      ]
    },
    {
      "cell_type": "markdown",
      "metadata": {
        "id": "yHfgiW0mJgmA"
      },
      "source": [
        "A modell tesztelése:"
      ]
    },
    {
      "cell_type": "code",
      "execution_count": 32,
      "metadata": {
        "colab": {
          "base_uri": "https://localhost:8080/",
          "height": 134
        },
        "id": "FExjA4lPJlNo",
        "outputId": "a099d471-70e9-4bfd-ae83-75eba56e5b9e"
      },
      "outputs": [
        {
          "output_type": "display_data",
          "data": {
            "text/plain": [
              "<Figure size 100x100 with 1 Axes>"
            ],
            "image/png": "[encoded data removed]"
          },
          "metadata": {}
        }
      ],
      "source": [
        "image = test_x[60]\n",
        "label = test_y[60]\n",
        "\n",
        "plt.figure(figsize=(1,1))\n",
        "plt.xticks([])\n",
        "plt.yticks([])\n",
        "plt.imshow(image, cmap=plt.cm.binary)\n",
        "plt.xlabel(class_names[label])\n",
        "plt.show()"
      ]
    },
    {
      "cell_type": "code",
      "execution_count": 33,
      "metadata": {
        "colab": {
          "base_uri": "https://localhost:8080/"
        },
        "id": "gchaHt4eJY4Y",
        "outputId": "ba775f16-905c-4da4-ba07-37e596101e7e"
      },
      "outputs": [
        {
          "output_type": "stream",
          "name": "stdout",
          "text": [
            "\u001b[1m1/1\u001b[0m \u001b[32m━━━━━━━━━━━━━━━━━━━━\u001b[0m\u001b[37m\u001b[0m \u001b[1m0s\u001b[0m 85ms/step\n",
            "[[0. 0. 0. 0. 0. 0. 0. 1. 0. 0.]]\n"
          ]
        }
      ],
      "source": [
        "predicted_y = model.predict(test_x[60:61])\n",
        "print(predicted_y)"
      ]
    },
    {
      "cell_type": "code",
      "execution_count": 34,
      "metadata": {
        "colab": {
          "base_uri": "https://localhost:8080/"
        },
        "id": "CMGsAh_dJ_U4",
        "outputId": "547f049b-2b32-4f28-c28a-38cdc1998b83"
      },
      "outputs": [
        {
          "output_type": "stream",
          "name": "stdout",
          "text": [
            "Cipő\n"
          ]
        }
      ],
      "source": [
        "index = predicted_y.tolist()[0].index(1.0)\n",
        "print(class_names[index])"
      ]
    },
    {
      "cell_type": "code",
      "execution_count": 35,
      "metadata": {
        "colab": {
          "base_uri": "https://localhost:8080/"
        },
        "id": "A7XPRalWKsQY",
        "outputId": "11195abf-f647-4a9c-9463-f716f122439e"
      },
      "outputs": [
        {
          "output_type": "stream",
          "name": "stdout",
          "text": [
            "\u001b[1m313/313\u001b[0m \u001b[32m━━━━━━━━━━━━━━━━━━━━\u001b[0m\u001b[37m\u001b[0m \u001b[1m1s\u001b[0m 2ms/step - accuracy: 0.8329 - loss: 70.0491\n"
          ]
        },
        {
          "output_type": "execute_result",
          "data": {
            "text/plain": [
              "[73.73979187011719, 0.8292999863624573]"
            ]
          },
          "metadata": {},
          "execution_count": 35
        }
      ],
      "source": [
        "model.evaluate(test_x, test_y)"
      ]
    },
    {
      "cell_type": "code",
      "execution_count": 36,
      "metadata": {
        "colab": {
          "base_uri": "https://localhost:8080/"
        },
        "id": "Y0K6jToPKv-T",
        "outputId": "02f9fe68-24e7-495e-ee10-1bca28bd526d"
      },
      "outputs": [
        {
          "output_type": "stream",
          "name": "stdout",
          "text": [
            "not enough values to unpack (expected 2, got 0)\n",
            "[[-0.05831293 -0.05075293 -0.04959144 ... -0.05692147 -0.03426501\n",
            "   0.03052484]\n",
            " [-0.01807588 -0.04764918  0.0383588  ... -0.050645    0.06492949\n",
            "  -0.06623192]\n",
            " [ 0.04863563 -0.01584774 -0.0447381  ... -0.01390082 -0.0183033\n",
            "   0.03500702]\n",
            " ...\n",
            " [-0.03200683  0.0767866  -0.06620553 ... -0.02781071  0.08045375\n",
            "   0.0100388 ]\n",
            " [ 0.06020017  0.04070596 -0.07659616 ...  0.02991167  0.04356055\n",
            "  -0.06561539]\n",
            " [-0.07277726 -0.01337171 -0.04333859 ... -0.02464938 -0.06891903\n",
            "  -0.05827206]]\n",
            "[ 2.20016614e-02 -1.08705191e-02  6.84605315e-02  7.61736184e-02\n",
            "  5.39467530e-03  1.91238716e-01 -1.32635301e-02  1.17730361e-03\n",
            " -3.39298807e-02  1.85518749e-02  5.68449730e-03  7.24316910e-02\n",
            "  7.23463222e-02 -1.01645375e-02  1.64385244e-01  1.37617320e-01\n",
            "  2.02805847e-02 -1.40926823e-01  1.06733941e-01 -1.80002786e-02\n",
            " -1.33346409e-01  1.64564177e-01 -9.41526964e-02 -1.28403261e-01\n",
            "  1.18151762e-01 -8.81646574e-02 -1.89572119e-03  1.68420486e-02\n",
            "  5.65169379e-03  1.23665005e-01 -2.09585577e-03  5.57631925e-02\n",
            "  3.28016514e-03  1.25057371e-02 -3.62311825e-02  7.30212405e-02\n",
            "  1.54869209e-04  5.30100279e-02  5.64871915e-03 -4.75735404e-03\n",
            " -8.44595134e-02  3.58989574e-02 -7.43451789e-02  8.84893462e-02\n",
            "  3.16602103e-02  4.64182422e-02  4.92249504e-02  1.13205627e-01\n",
            "  7.14794695e-02 -3.80591527e-02  1.37986049e-01  7.35197365e-02\n",
            " -3.46739739e-02  3.15577723e-02  6.75846487e-02  2.14843854e-01\n",
            "  4.57849950e-02 -5.19799665e-02  4.86261770e-02  5.06021455e-02\n",
            "  2.07607169e-02  1.63063318e-01  4.84365644e-03 -2.53654588e-02\n",
            "  9.45385545e-04  4.45353352e-02  7.51547664e-02  1.25234872e-01\n",
            "  5.58276102e-02 -1.47226416e-02  7.79116154e-02  2.82260418e-01\n",
            "  1.04367673e-01  5.79413809e-02 -4.21866047e-04  8.01142380e-02\n",
            "  1.35370538e-01  6.58574179e-02  1.85183764e-01  2.40527019e-02\n",
            "  1.12655029e-01 -1.85013656e-02  1.53750125e-02  7.25928992e-02\n",
            "  3.28288451e-02  1.66048878e-03  2.18937173e-01  7.31070573e-03\n",
            "  5.71468286e-02  1.79072749e-02 -3.20169069e-02  4.06645946e-02\n",
            "  3.77078354e-02  1.28299236e-01  2.37842705e-02  7.97357559e-02\n",
            "  5.78048592e-03  2.48193480e-02  7.93769211e-02  7.33961314e-02\n",
            "  5.78701496e-02  1.02209486e-02  1.41503468e-01 -1.68321431e-02\n",
            "  9.08307284e-02  4.98034842e-02  7.80315027e-02  7.74493292e-02\n",
            " -2.10981853e-02  1.58700235e-02  1.51842199e-02  9.17822793e-02\n",
            "  8.15922543e-02  5.29061928e-02  3.87905538e-02  1.42463567e-02\n",
            "  1.18549272e-01  5.78330420e-02  1.42703906e-01  5.44003733e-02\n",
            "  2.23220363e-02  3.73876584e-03  2.95703555e-03  2.48470753e-02\n",
            "  3.92538408e-04  9.12722871e-02  6.06960021e-02 -1.41619854e-02\n",
            " -2.36358512e-02  5.40984794e-02  1.35521248e-01 -7.27117993e-04\n",
            "  2.96735968e-02 -1.97546370e-02  3.83411115e-03  9.01276246e-02\n",
            "  1.38475776e-01  7.61887208e-02 -1.39736012e-01 -5.53538091e-02\n",
            " -9.66573320e-03  1.29901782e-01  4.48177196e-02 -3.25855091e-02\n",
            "  4.89336848e-02 -4.71897377e-03 -2.11888980e-02 -5.49643226e-02\n",
            "  1.91407483e-02  9.08834040e-02  2.72489786e-02 -3.80187295e-02\n",
            " -2.49556638e-02 -9.43202302e-02  8.58591571e-02  2.25145575e-02\n",
            "  4.48559374e-02  1.32870391e-01 -7.85697624e-02 -7.37136602e-02\n",
            "  2.09689084e-02 -1.37113398e-02  1.20873032e-02 -8.37632362e-03\n",
            "  1.08270258e-01  9.15491581e-02 -3.66961770e-02  2.95009390e-02\n",
            "  2.97097303e-02  7.42318556e-02 -6.18044585e-02  9.25903842e-02\n",
            "  5.53529486e-02 -2.27870103e-02  7.94677287e-02  2.91471891e-02\n",
            "  1.99719936e-01 -1.80809647e-02 -1.52222561e-02 -3.58054638e-02\n",
            "  5.66410050e-02 -4.61444482e-02  8.44847336e-02 -2.43009552e-02\n",
            "  8.84756967e-02  7.76431486e-02  2.54288204e-02  1.30499050e-01\n",
            "  2.28055883e-02 -2.40612533e-02  8.51638988e-03  1.39148846e-01\n",
            "  6.03853948e-02  1.09401181e-01 -3.65340039e-02 -2.00605206e-02\n",
            "  1.77547876e-02  5.55903837e-03  9.22132656e-03  1.42931506e-01\n",
            " -2.21696310e-02 -3.94967012e-02  4.54224460e-02 -6.30422980e-02\n",
            "  3.21094096e-02 -1.10805416e-02  6.74217939e-03  3.92055744e-03\n",
            " -8.27238932e-02  2.13779546e-02  3.26027907e-02  6.79115131e-02\n",
            " -1.58093255e-02  6.98299035e-02  1.21240150e-02  6.56575710e-02\n",
            " -7.00462842e-03  4.27261703e-02  1.18292160e-01  7.23186731e-02\n",
            "  3.69505845e-02  1.22107603e-02 -9.32901353e-03  3.69951911e-02\n",
            "  9.68219116e-02 -7.47835562e-02 -8.23052675e-02  1.72337025e-01\n",
            "  1.54252291e-01  9.84040871e-02  5.44707403e-02  3.39608011e-03\n",
            "  5.73610216e-02  1.63183838e-01  3.06968596e-02  1.44895002e-01\n",
            " -9.01388179e-04  5.04618660e-02  6.31198138e-02  1.13833226e-01\n",
            " -4.61813621e-03  7.46894442e-03  7.37257162e-03 -5.45480195e-03\n",
            "  1.46503737e-02 -3.59001793e-02  9.60223973e-02 -2.33626459e-02\n",
            " -2.62379250e-03 -1.25559187e-02  1.03595264e-01 -6.44002780e-02\n",
            "  2.82985391e-03  8.15005600e-03  1.10593200e-01  2.29857545e-02\n",
            "  1.13216236e-01  3.21096666e-02  1.19057600e-03 -2.41843611e-02\n",
            "  1.02008350e-01  6.80827051e-02  6.50871685e-03  4.68136556e-03\n",
            "  2.74775401e-02 -5.52960783e-02  7.10804090e-02  2.63203196e-02\n",
            "  5.84751479e-02  1.22771459e-03  1.85427845e-01 -2.32808404e-02\n",
            " -5.32361167e-03  4.37780097e-02  2.17083320e-02 -8.05377681e-03\n",
            "  7.55757093e-02  2.21254901e-04 -4.12931405e-02  1.13203926e-02\n",
            " -4.84853098e-03  1.00734271e-01  9.51743796e-02  2.01149266e-02\n",
            " -7.36100879e-03 -5.54016209e-04  2.39987322e-03  7.35597089e-02\n",
            " -2.47338060e-02  2.83823535e-02  6.98454231e-02  1.90393835e-01\n",
            " -2.34730523e-02  2.50851531e-02 -8.47788621e-03  1.05424300e-01\n",
            "  6.47254437e-02  1.66980792e-02 -2.26825289e-02  1.30329875e-03]\n",
            "[[ 1.05905198e-01 -1.16217807e-01 -8.91270638e-02 ... -6.90297559e-02\n",
            "   6.36174157e-02 -1.02275148e-01]\n",
            " [ 6.40825322e-03  5.10844588e-02 -1.08770847e-01 ...  2.10980400e-01\n",
            "  -1.00153692e-01 -8.41206014e-02]\n",
            " [-1.63021386e-02 -6.33757859e-02  4.64315228e-02 ...  1.13238372e-01\n",
            "   1.04596116e-01  7.56615400e-02]\n",
            " ...\n",
            " [ 1.23330876e-01 -8.34462196e-02 -1.07868768e-01 ... -2.10593604e-02\n",
            "  -1.00290798e-01  1.81883313e-02]\n",
            " [ 1.33873120e-01 -1.61939039e-04  2.88624852e-03 ... -1.38954828e-02\n",
            "   2.52049733e-02 -1.43164638e-02]\n",
            " [-7.60077387e-02 -9.14199557e-03  1.15421832e-01 ...  6.50625583e-03\n",
            "  -1.05995804e-01 -1.20286234e-02]]\n",
            "[ 8.7487116e-02  6.7744233e-02  9.5592700e-02  1.4091766e-01\n",
            "  9.2780581e-03  8.1716724e-02  1.5058845e-01  1.4845969e-01\n",
            "  6.1197528e-03  8.0563821e-02  9.3764057e-03  1.9522573e-01\n",
            "  5.1988933e-02 -1.8912757e-02 -8.3996467e-03  7.8223273e-02\n",
            " -5.4140133e-03  2.3946498e-02  4.3063518e-02  3.5710607e-02\n",
            " -3.0545385e-03 -2.3036463e-02  2.5361963e-02  5.4664541e-02\n",
            "  4.1888371e-02  1.3912426e-01 -9.1235392e-02  1.1273743e-01\n",
            " -8.0503933e-02 -7.2408147e-02 -1.3714441e-02  1.4318107e-01\n",
            " -5.6816114e-04  5.0836124e-02  2.1995769e-03  5.5184562e-02\n",
            "  4.7808564e-03  7.1470343e-02  3.4602456e-02 -8.5935695e-03\n",
            " -4.1814907e-03  6.2008429e-02  9.8179527e-02  1.0029331e-02\n",
            "  4.0395912e-02  1.9703072e-02  7.2611168e-02  9.3972653e-02\n",
            "  3.5312973e-02  2.0192713e-02  7.1962893e-02  1.1065110e-01\n",
            "  4.3528922e-02  6.3839920e-02  8.1601962e-02 -2.1798937e-02\n",
            " -7.7786900e-02  5.0273113e-02  1.0523542e-01  5.5640180e-02\n",
            "  3.0315375e-02 -1.2049115e-02 -3.5829429e-02  6.5629622e-03\n",
            "  2.0226838e-04 -5.5941259e-03  9.3433902e-02  9.3221273e-03\n",
            "  1.4025962e-01 -1.3117909e-01 -2.5228001e-02  1.3457841e-01\n",
            "  3.6379710e-02  6.2126767e-02 -6.4178337e-03 -4.2409156e-03\n",
            " -6.9036608e-04 -1.2162859e-02  1.2553203e-01  2.2170356e-02\n",
            "  5.2357913e-04  2.1927008e-01  1.2670200e-01  1.6471595e-01\n",
            " -5.7126354e-02  4.5146123e-02  2.3513380e-02  7.5438279e-03\n",
            "  5.4363841e-03 -1.2762350e-02  3.6040846e-02  8.4605344e-02\n",
            "  1.1973699e-02  8.0740541e-02 -2.3506057e-02 -1.6398996e-02\n",
            "  1.5769784e-01  1.0966816e-01 -3.1311060e-03  8.6369604e-02]\n",
            "[[ 2.35212799e-02 -2.25996107e-01 -1.28587216e-01  1.00104399e-01\n",
            "   3.10877413e-01  7.84402043e-02 -4.47964340e-01  2.52253681e-01\n",
            "  -1.00747779e-01 -3.06323409e-01]\n",
            " [ 5.10848343e-01  1.42088264e-01 -3.27532351e-01 -4.63346541e-01\n",
            "   2.04208836e-01  1.03945777e-01  3.96053106e-01  2.71543860e-01\n",
            "  -4.54125926e-02 -1.15649685e-01]\n",
            " [-3.72413039e-01  3.98871809e-01  2.32144564e-01  3.25915486e-01\n",
            "   3.62889767e-02 -5.12896121e-01 -2.87907347e-02  4.03498620e-01\n",
            "  -2.81141371e-01  7.19315931e-02]\n",
            " [-6.77478984e-02 -7.33381882e-03  4.43829596e-01 -4.20371965e-02\n",
            "  -2.73278475e-01 -7.11654723e-01  4.07413781e-01  4.35727745e-01\n",
            "  -9.64628384e-02 -1.29650561e-02]\n",
            " [-1.32219298e-02 -2.80337214e-01  2.62493759e-01  2.85230398e-01\n",
            "   1.21412992e-01 -1.78952768e-01 -6.76676705e-02 -1.64901823e-01\n",
            "   2.97441989e-01 -1.31103590e-01]\n",
            " [-1.53364152e-01 -1.95335880e-01 -3.99274260e-01 -2.86021590e-01\n",
            "  -1.26657799e-01  3.30560148e-01 -5.22979438e-01  3.76472563e-01\n",
            "   4.16883916e-01  4.17543828e-01]\n",
            " [-4.59472016e-02 -9.84104201e-02  3.32106233e-01 -8.10296014e-02\n",
            "  -1.80024385e-01  2.91348219e-01  2.23833635e-01  2.27475718e-01\n",
            "  -3.70788515e-01  1.56977519e-01]\n",
            " [ 3.02341253e-01 -1.95974171e-01 -3.45987767e-01  2.59282023e-01\n",
            "  -7.40874233e-03  6.18472397e-01 -1.95281245e-02  2.93172032e-01\n",
            "  -4.23439056e-01 -1.77052000e-03]\n",
            " [-8.34776554e-03  2.64819771e-01  2.00214982e-01 -3.55885439e-02\n",
            "  -1.93082809e-01  2.13328972e-01 -5.51927797e-02  6.77628890e-02\n",
            "  -9.70587358e-02 -1.86285898e-01]\n",
            " [-2.29260981e-01  2.20415816e-01 -3.90466332e-01 -2.58318841e-01\n",
            "   1.84850156e-01  4.50060546e-01  5.24477124e-01 -5.16810417e-01\n",
            "   2.89184600e-01 -5.92992874e-03]\n",
            " [ 7.42554814e-02  8.97310078e-02  1.28705308e-01 -2.32563064e-01\n",
            "  -3.97123426e-01 -1.93757176e-01  4.17841524e-01 -2.71467626e-01\n",
            "  -2.02086698e-02 -2.19406188e-01]\n",
            " [-5.02203286e-01 -1.71237111e-01  1.21578723e-01  1.61295772e-01\n",
            "  -2.39543244e-02  1.28274843e-01  5.45305572e-02  1.71415374e-01\n",
            "   4.47064899e-02 -4.74949509e-01]\n",
            " [ 1.25569582e-01  6.88671507e-03  3.01707864e-01 -3.73307057e-02\n",
            "  -4.24621552e-01  1.29025504e-01  4.44352418e-01 -2.08700746e-01\n",
            "   4.41954546e-02  1.94873691e-01]\n",
            " [-2.04206202e-02 -5.65269850e-02 -5.36924787e-02  1.57236736e-02\n",
            "   1.87264845e-01  2.79023200e-02  2.83540133e-02  8.01279470e-02\n",
            "   5.07757999e-02  2.12740809e-01]\n",
            " [ 1.43587273e-02 -3.30134518e-02 -1.56078562e-01  1.52948767e-01\n",
            "  -1.11818947e-01 -1.14134066e-01 -6.42633736e-02  7.01516271e-02\n",
            "  -8.29377621e-02  2.26421535e-01]\n",
            " [-1.80279955e-01 -1.28694877e-01  1.24257527e-01 -4.97254953e-02\n",
            "   3.94374102e-01 -3.58421326e-01  5.46213627e-01  1.92204863e-01\n",
            "  -3.44061226e-01 -1.82010174e-01]\n",
            " [ 1.18999638e-01 -1.30414233e-01  1.57853350e-01 -1.78991526e-01\n",
            "  -5.90549931e-02 -6.45379424e-02  1.88633934e-01  1.53354123e-01\n",
            "   2.19939068e-01 -1.09466955e-01]\n",
            " [ 1.89884543e-01 -3.15797031e-02  2.65177190e-01 -1.65304303e-01\n",
            "  -1.51335627e-01  3.36955279e-01 -2.23744839e-01  2.36592412e-01\n",
            "   1.36044115e-01  2.41332471e-01]\n",
            " [-3.96573544e-01  6.35694921e-01 -4.82462019e-01 -7.80264586e-02\n",
            "  -2.27945551e-01  3.59054029e-01  3.30751449e-01  1.90347925e-01\n",
            "  -4.57885146e-01  6.16507381e-02]\n",
            " [ 2.06182390e-01 -2.42602393e-01  4.56943035e-01 -2.43300200e-01\n",
            "   1.03282042e-01  3.16991687e-01  3.44944417e-01 -3.62458348e-01\n",
            "  -2.93710858e-01  2.71295547e-01]\n",
            " [-7.34325796e-02 -8.05627406e-02 -5.31921461e-02 -1.26554355e-01\n",
            "   1.42204344e-01 -7.49545693e-02  1.21377595e-01  5.49974777e-02\n",
            "   2.27414221e-01  8.16930234e-02]\n",
            " [ 4.31423753e-01  2.94727951e-01  4.16090220e-01  7.23092165e-03\n",
            "   1.71760693e-02  7.83170834e-02  1.12941444e-01 -5.31890929e-01\n",
            "  -5.20115316e-01  3.53866279e-01]\n",
            " [ 1.05736881e-01  3.06163341e-01  9.00468454e-02  2.27212980e-01\n",
            "  -1.13143243e-01 -7.13531673e-02 -3.72506715e-02  1.49740070e-01\n",
            "   4.99892198e-02  4.65124920e-02]\n",
            " [ 5.24982065e-02 -3.20750505e-01  1.34503961e-01 -1.10548316e-02\n",
            "   1.58935353e-01 -1.25804976e-01  3.77838016e-01 -2.30324462e-01\n",
            "   2.50358790e-01 -3.19360673e-01]\n",
            " [ 2.92724758e-01 -3.77304740e-02  2.41964743e-01 -1.55444235e-01\n",
            "   1.49662182e-01 -1.77948130e-03 -3.97850662e-01  2.40435421e-01\n",
            "   1.24284823e-03  1.32498756e-01]\n",
            " [ 7.09438249e-02  2.42215931e-01 -5.15914023e-01  5.34658194e-01\n",
            "   1.01129137e-01 -1.36398971e-02  1.54496536e-01 -1.10726617e-01\n",
            "   1.40103102e-01  3.50900963e-02]\n",
            " [ 2.86377549e-01 -2.81464368e-01 -2.53358126e-01 -3.24076593e-01\n",
            "   3.13448489e-01 -2.68497586e-01  2.18527690e-02  1.37141928e-01\n",
            "   3.03030908e-01  3.56291793e-02]\n",
            " [ 3.65595445e-02 -2.59968668e-01 -3.61263543e-01  5.55188596e-01\n",
            "   4.16868001e-01  1.91824779e-01 -3.58417839e-01 -3.80944870e-02\n",
            "  -2.82170236e-01  1.27785549e-01]\n",
            " [ 2.87482560e-01  5.56427538e-01 -1.55934930e-01 -1.67653665e-01\n",
            "  -3.32315406e-03 -7.50707150e-01 -2.26784885e-01 -5.77875450e-02\n",
            "   5.63331544e-01  3.38407904e-02]\n",
            " [-4.25963491e-01 -1.88510656e-01  6.72002211e-02 -1.89111516e-01\n",
            "   2.81944543e-01 -2.96460062e-01 -1.04822755e-01 -1.17390960e-01\n",
            "   4.99275833e-01  3.34726930e-01]\n",
            " [-3.00991926e-02 -6.03533573e-02  9.69579145e-02  2.17542313e-02\n",
            "   2.68969573e-02 -1.05356731e-01  1.26111463e-01  9.90668163e-02\n",
            "   4.91160527e-02  1.00093223e-01]\n",
            " [ 2.59164989e-01 -3.99328023e-01  2.59784043e-01 -4.00578409e-01\n",
            "  -3.11548293e-01  5.32828927e-01 -1.85869977e-01  2.79367924e-01\n",
            "   3.50643098e-01  3.43878008e-02]\n",
            " [-2.06333667e-01 -1.78791240e-01 -5.86002022e-02 -2.26021305e-01\n",
            "  -6.32582698e-03 -1.54088452e-01 -2.70520121e-01 -2.21111968e-01\n",
            "   1.17609806e-01  1.53790683e-01]\n",
            " [ 2.42942572e-01 -2.57175297e-01  1.99593455e-01 -2.24414259e-01\n",
            "  -3.00441161e-02  9.12768207e-03 -2.63830721e-02  4.03409787e-02\n",
            "   6.21770360e-02 -3.01153362e-01]\n",
            " [-2.16299504e-01  2.63510227e-01 -1.14237644e-01 -1.15630917e-01\n",
            "  -2.43277818e-01 -1.31963894e-01 -1.64177902e-02 -1.47638381e-01\n",
            "  -2.99021439e-03 -1.90941438e-01]\n",
            " [ 2.70502865e-01 -2.61161327e-01 -1.51857480e-01  6.40647411e-01\n",
            "  -3.57844919e-01 -2.81015672e-02 -3.27154882e-02 -4.85994071e-01\n",
            "   5.56346536e-01 -2.05191746e-01]\n",
            " [ 9.23524499e-02 -1.16533451e-01  6.83327913e-02  6.17262628e-03\n",
            "  -1.22015633e-01  1.85607776e-01 -1.08975932e-01  1.84970766e-01\n",
            "  -2.04295754e-01 -1.72382817e-01]\n",
            " [ 4.13437963e-01 -6.87207356e-02  1.69935703e-01 -2.87836164e-01\n",
            "   5.31656034e-02 -1.64330676e-02  5.61234057e-01  8.07006191e-03\n",
            "  -5.10662317e-01 -3.66100967e-01]\n",
            " [-2.26930469e-01  6.40351251e-02  6.26834929e-01  3.35769467e-02\n",
            "  -2.88939923e-01  2.16954619e-01  8.60156771e-03 -4.09857631e-02\n",
            "   9.64258462e-02  9.15028229e-02]\n",
            " [ 3.42974328e-02 -1.42866261e-02  1.62159577e-01  5.02072945e-02\n",
            "  -9.23970491e-02 -2.22470865e-01 -3.97804119e-02 -2.26567850e-01\n",
            "  -1.90677002e-01 -8.97654798e-03]\n",
            " [-2.17086196e-01  2.00367957e-01 -1.96529970e-01  7.37089068e-02\n",
            "  -1.02748394e-01 -6.47912174e-02 -1.38157159e-02 -1.69989675e-01\n",
            "  -4.55102362e-02  3.38649750e-02]\n",
            " [-2.05376238e-01  1.34294987e-01  1.73400924e-01 -2.37645611e-01\n",
            "   3.68822187e-01 -2.99645007e-01  2.31972605e-01 -1.19522177e-02\n",
            "  -2.25853264e-01  4.90893573e-01]\n",
            " [-3.56287748e-01 -1.60009354e-01 -1.03779078e-01  4.50726151e-01\n",
            "   9.89821106e-02  2.87118703e-01  2.81021029e-01 -2.54381210e-01\n",
            "  -2.01329529e-01  3.61757390e-02]\n",
            " [-1.09537587e-01  1.66373044e-01 -3.95524502e-02 -1.16093695e-01\n",
            "  -5.53068109e-02  3.72480676e-02 -1.82571575e-01  3.84010784e-02\n",
            "   1.68230683e-01 -1.93530276e-01]\n",
            " [ 2.06939891e-01  1.02685064e-01 -1.07815964e-02 -2.93805540e-01\n",
            "   2.85344273e-01  2.81466275e-01 -4.06675905e-01  1.26333192e-01\n",
            "  -2.22453219e-03  1.23707391e-01]\n",
            " [-1.26248589e-02 -1.30811892e-02  5.83330356e-02 -3.63477767e-02\n",
            "   1.12858228e-01  3.42146456e-02  3.94939780e-01 -4.48489338e-01\n",
            "   2.28069365e-01 -4.03388530e-01]\n",
            " [ 4.34136875e-02  2.63803124e-01 -3.45547765e-01  1.50839284e-01\n",
            "   4.74066466e-01 -2.92043835e-01 -3.18651259e-01  4.17575359e-01\n",
            "  -2.80371606e-01  1.77574262e-01]\n",
            " [-9.38590430e-03 -9.82743576e-02 -2.66649157e-01  3.63405138e-01\n",
            "  -4.21467703e-03 -7.93188065e-02  6.53060153e-02  9.30330679e-02\n",
            "   3.34945589e-01 -4.14722487e-02]\n",
            " [-5.13089955e-01  1.35277972e-01  1.30643427e-01 -1.25859842e-01\n",
            "   6.89120948e-01  3.80529344e-01 -8.87735486e-02 -1.06169850e-01\n",
            "   3.06527674e-01 -3.79295975e-01]\n",
            " [ 1.56919509e-01  1.44356459e-01  8.78805518e-02 -2.06018880e-01\n",
            "   1.05574474e-01  1.78824276e-01 -8.15312937e-03 -3.98053788e-02\n",
            "   8.75569656e-02  1.82855800e-02]\n",
            " [ 3.00632536e-01 -4.42830950e-01 -1.71590418e-01 -1.37708992e-01\n",
            "  -3.75519454e-01  2.71073282e-01  4.21098411e-01 -1.38451040e-01\n",
            "  -3.44444066e-01  4.14763927e-01]\n",
            " [ 1.26860082e-01 -9.43107530e-02 -3.07115555e-01  3.20375651e-01\n",
            "   3.51170868e-01  2.80881822e-01 -2.08075181e-01 -1.50913119e-01\n",
            "   3.16383541e-02 -9.62826684e-02]\n",
            " [ 2.91765422e-01 -3.48335952e-01 -3.37183833e-01  1.12007909e-01\n",
            "  -2.66001761e-01  1.77432984e-01  4.22648489e-02 -2.42992938e-01\n",
            "   5.53301871e-01 -4.34133291e-01]\n",
            " [-3.53137553e-01  4.24321920e-01 -1.97955415e-01  5.34997463e-01\n",
            "  -2.57306278e-01  2.49043971e-01 -1.60855979e-01 -1.79058746e-01\n",
            "  -2.85067827e-01  7.15017915e-02]\n",
            " [ 2.79533684e-01 -2.71954119e-01 -2.75206864e-01  1.13556243e-01\n",
            "  -3.12496543e-01  1.63667157e-01  3.43452364e-01  4.94256407e-01\n",
            "  -2.35362276e-01 -4.68164086e-01]\n",
            " [ 1.68221369e-01 -1.27443641e-01 -2.15754911e-01 -5.37352338e-02\n",
            "   3.10577303e-01  4.15048331e-01  1.74398214e-01 -2.43565530e-01\n",
            "   1.47031635e-01  1.68401539e-01]\n",
            " [-2.51027375e-01  4.01808470e-01 -5.39777219e-01 -1.52934283e-01\n",
            "   5.47089875e-02 -5.76015115e-01  1.30648032e-01  3.89029354e-01\n",
            "   2.18343645e-01  4.18139994e-01]\n",
            " [ 2.34498844e-01  3.96760218e-02  3.96594077e-01  1.06500052e-01\n",
            "   1.31299451e-01  3.34765464e-01 -1.09241597e-01 -2.73730576e-01\n",
            "  -1.74527109e-01 -2.13624686e-01]\n",
            " [ 2.98748612e-01  1.23703346e-01 -1.72108963e-01 -1.96910575e-01\n",
            "   7.01918900e-02  5.60173169e-02  1.42997473e-01  3.22444886e-01\n",
            "   9.45443213e-02 -1.80420965e-01]\n",
            " [-5.62648848e-03  2.64223367e-01 -1.17675222e-01  3.33398134e-01\n",
            "   4.33618436e-03 -3.79846275e-01  4.30103838e-01 -4.61358249e-01\n",
            "  -4.20023382e-01 -1.96808234e-01]\n",
            " [ 1.20442584e-01  4.26373035e-02  1.88770785e-03 -6.18189089e-02\n",
            "   3.30390513e-01  1.73853874e-01  1.70326650e-01 -2.18853101e-01\n",
            "  -1.92645669e-01  5.76759018e-02]\n",
            " [-6.78067580e-02 -1.96644571e-02  5.31357937e-02  1.97291836e-01\n",
            "  -1.96305096e-01 -6.02208301e-02 -1.78893790e-01  1.73505470e-01\n",
            "  -1.71367422e-01 -5.23596965e-02]\n",
            " [-2.53403664e-01  2.92142481e-01  3.15415114e-01  1.69061556e-01\n",
            "   4.23018754e-01 -4.99903876e-03  1.75394520e-01 -6.06459439e-01\n",
            "   1.31920338e-01 -5.22093661e-02]\n",
            " [-5.73943891e-02 -1.73033431e-01  1.09653175e-02 -2.30720252e-01\n",
            "  -1.71594396e-01 -1.39606774e-01  2.31609926e-01 -1.64181292e-01\n",
            "   5.24801165e-02 -1.54503971e-01]\n",
            " [ 2.71271262e-02  1.94697734e-03  1.90120563e-01  7.12774396e-02\n",
            "  -5.55022582e-02  4.17805687e-02 -7.89306536e-02  1.94805577e-01\n",
            "   1.56983823e-01 -1.14966094e-01]\n",
            " [-1.00960977e-01  1.56617105e-01 -1.25733033e-01 -4.53215241e-02\n",
            "   6.63832575e-02 -2.24771630e-02  2.25328401e-01 -1.80188313e-01\n",
            "   1.74839258e-01 -1.18416332e-01]\n",
            " [-3.10186613e-02  1.19912118e-01  1.18040159e-01 -3.29361707e-01\n",
            "  -4.06995676e-02  1.43611237e-01  2.07112893e-01  2.82032818e-01\n",
            "   4.64297742e-01 -5.47334135e-01]\n",
            " [ 1.96803287e-02 -9.93863121e-02 -9.61981416e-02  1.01714961e-01\n",
            "  -1.77371904e-01  1.88700110e-01  3.33022103e-02  5.36167957e-02\n",
            "   7.76817575e-02 -3.55602540e-02]\n",
            " [ 1.17581479e-01 -2.65452415e-02 -5.80440342e-01 -3.11935931e-01\n",
            "  -1.42665789e-01  5.10223806e-01  3.94783050e-01 -1.34715244e-01\n",
            "   3.74787599e-01 -4.79438715e-02]\n",
            " [ 3.05979431e-01  1.43677101e-01 -5.73228836e-01 -1.97947863e-02\n",
            "   4.05995399e-01  1.76660549e-02 -1.02673173e-02 -3.23517412e-01\n",
            "  -8.69886652e-02  2.77022600e-01]\n",
            " [-2.51464933e-01  3.54249328e-01  3.77539098e-02  1.55251950e-01\n",
            "   2.37369224e-01 -7.39312947e-01 -2.52445042e-01  4.68540192e-02\n",
            "   2.29763925e-01  3.43707085e-01]\n",
            " [ 2.33316571e-01  4.74088937e-02 -6.66550398e-02  2.70710558e-01\n",
            "  -1.76733792e-01 -6.29234612e-02 -4.25801426e-02  3.96521211e-01\n",
            "  -3.53209436e-01  2.84761310e-01]\n",
            " [ 9.92893651e-02  1.32002056e-01 -3.59161854e-01  1.48178369e-01\n",
            "   2.46142417e-01 -7.38010481e-02  6.19448006e-01  1.76532179e-01\n",
            "  -2.98949152e-01 -2.17762053e-01]\n",
            " [-1.75023824e-01 -2.35207304e-01 -1.00985482e-01  2.68915564e-01\n",
            "  -4.74936366e-02 -2.18256935e-01  4.01420325e-01 -8.91362503e-02\n",
            "  -7.77310580e-02  3.31672579e-01]\n",
            " [ 5.88234253e-02  3.75379473e-02 -3.44786532e-02 -2.10254133e-01\n",
            "  -2.11244255e-01 -1.82181410e-02 -1.37010276e-01  1.42071381e-01\n",
            "   1.35751247e-01 -2.32260793e-01]\n",
            " [ 1.39387801e-01  4.24616218e-01  2.17041522e-01 -9.46076401e-03\n",
            "  -7.94854537e-02 -4.91842985e-01 -3.02337021e-01  1.84736878e-01\n",
            "   2.69371748e-01 -8.96798670e-02]\n",
            " [-1.73136517e-01 -1.28158912e-01 -8.54425132e-02 -2.88823084e-03\n",
            "  -1.79514378e-01  1.38591424e-01  4.82005673e-03  1.94669291e-02\n",
            "  -1.63980395e-01  1.81752384e-01]\n",
            " [ 1.95864402e-02  2.02182069e-01  3.58131915e-01 -1.54353932e-01\n",
            "  -1.99172437e-01 -3.69820446e-02 -7.85793215e-02 -1.56776860e-01\n",
            "   3.04669529e-01 -2.42003709e-01]\n",
            " [ 5.68778694e-01  3.50886911e-01  1.25802189e-01 -3.19631338e-01\n",
            "  -5.04395783e-01  5.19025624e-01 -1.96546420e-01 -1.06981017e-01\n",
            "  -1.28771424e-01 -3.61077398e-01]\n",
            " [ 6.04015827e-01 -2.87148863e-01  3.60624105e-01 -9.32095274e-02\n",
            "  -2.77015120e-01 -2.10645869e-01 -4.31900740e-01 -1.50924519e-01\n",
            "  -2.88269848e-01  1.60508864e-02]\n",
            " [ 1.71290398e-01  6.66296557e-02  3.26596379e-01 -3.19010943e-01\n",
            "  -1.07275434e-01  2.42960572e-01 -1.96976677e-01  8.42041895e-02\n",
            "   2.82616206e-02  3.25363013e-03]\n",
            " [ 3.42211813e-01 -2.93785095e-01 -4.17639241e-02  3.04918677e-01\n",
            "  -4.19242918e-01 -2.34576523e-01  7.36652076e-01  1.86627701e-01\n",
            "  -1.62826911e-01 -1.47357211e-01]\n",
            " [-1.35034770e-01 -5.54829240e-01  1.57401368e-01  3.41995388e-01\n",
            "  -5.43320291e-02  3.40215325e-01 -2.42609456e-01  3.23745102e-01\n",
            "  -1.02974698e-01  3.09551656e-01]\n",
            " [-3.04399431e-01 -2.26860359e-01  2.37234339e-01  5.63663840e-01\n",
            "   1.87717140e-01 -5.05596578e-01 -1.52771309e-01  2.96663284e-01\n",
            "  -1.69825718e-01 -3.54840279e-01]\n",
            " [-2.10116938e-01 -9.68527496e-02 -2.63722122e-01  3.42416465e-02\n",
            "  -7.62050226e-02 -4.34228241e-01 -1.05485186e-01 -1.10919237e-01\n",
            "  -1.06985249e-01  4.75663960e-01]\n",
            " [-1.42919391e-01  1.29117966e-02  7.11531341e-02 -9.28941071e-02\n",
            "  -2.47297302e-01  1.09432908e-02  1.44250123e-02  2.01737732e-01\n",
            "  -1.33233592e-01  2.81323969e-01]\n",
            " [ 5.18373728e-01 -3.49638499e-02  8.55268445e-03 -1.43738568e-01\n",
            "   3.06856036e-01 -2.23330170e-01  3.16074431e-01 -3.45443457e-01\n",
            "  -2.06905097e-01 -3.88326079e-01]\n",
            " [ 2.75149792e-01 -8.10859278e-02  3.02610785e-01  2.18022373e-02\n",
            "  -2.68977851e-01  1.61578711e-02 -4.12161142e-01  3.54748890e-02\n",
            "   2.36910552e-01  4.43136543e-01]\n",
            " [ 1.49858817e-01  1.08068176e-01  4.46542725e-02 -1.37343541e-01\n",
            "   2.49080136e-01 -2.05719456e-01  1.30819082e-01 -7.75422007e-02\n",
            "   1.84955671e-01 -9.85484868e-02]\n",
            " [ 2.75678504e-02 -3.67752701e-01  7.45269135e-02 -3.57187718e-01\n",
            "   3.53377759e-01 -6.47154331e-01  6.37871847e-02  2.40185186e-01\n",
            "   1.35780171e-01  2.59203166e-01]\n",
            " [ 1.20317481e-01  9.28246900e-02  5.07556021e-01  2.91477323e-01\n",
            "   1.49128214e-01 -5.91925323e-01 -5.36171384e-02 -3.29095304e-01\n",
            "  -1.60018101e-01 -3.39797974e-01]\n",
            " [-4.62577850e-01 -8.56171101e-02  1.24919526e-01 -8.27918574e-02\n",
            "  -4.15799230e-01  1.63989693e-01 -3.04306243e-02  1.74145490e-01\n",
            "   4.65213358e-01  1.40681133e-01]\n",
            " [ 3.36414844e-01 -3.89625728e-02  2.25513697e-01  2.25652680e-02\n",
            "   3.98214042e-01 -1.60531458e-02 -5.18095717e-02 -4.91673797e-01\n",
            "  -6.15338683e-02 -3.92579347e-01]\n",
            " [-6.03682362e-02 -1.00794212e-04  2.82563847e-02  4.15382683e-01\n",
            "  -1.82094544e-01  3.11769783e-01 -4.15171295e-01  7.05368146e-02\n",
            "  -3.46124351e-01  4.18488204e-01]\n",
            " [ 2.45243430e-01  2.42304549e-01  8.94286856e-03 -2.07142472e-01\n",
            "   2.32462779e-01 -8.27290267e-02 -5.29196076e-02  1.85287625e-01\n",
            "  -4.23061788e-01  2.25751609e-01]\n",
            " [-2.33921066e-01 -1.66012853e-01  2.78871208e-02 -4.10221294e-02\n",
            "  -1.83913231e-01 -1.42929733e-01  1.52206691e-02  2.01729592e-02\n",
            "   2.11298510e-01  3.26244235e-02]\n",
            " [ 3.20915103e-01 -3.85707080e-01  1.04466513e-01  8.42909736e-04\n",
            "  -3.46689224e-01  4.56158429e-01  4.06149894e-01 -1.57160461e-01\n",
            "  -6.46392107e-02 -1.43550918e-01]\n",
            " [-4.13028419e-01  3.52320760e-01 -3.22460353e-01 -3.68416905e-01\n",
            "  -2.20100299e-01  6.53731048e-01 -4.18590128e-01  3.18732411e-01\n",
            "  -2.11230405e-02 -2.59864256e-02]\n",
            " [ 1.22560680e-01 -3.80529091e-02  2.08175123e-01 -1.60800070e-01\n",
            "   1.88757747e-01 -5.11959270e-02 -8.72281790e-02  5.83588965e-02\n",
            "   3.28005701e-02  1.69457495e-01]\n",
            " [ 2.81394839e-01 -2.18184292e-01  4.09966022e-01  1.38075233e-01\n",
            "   1.14997514e-01 -5.93531072e-01  2.66454667e-01  1.74874123e-02\n",
            "   3.41455974e-02 -4.07555699e-01]]\n",
            "[-0.03620327 -0.09932913  0.03546584  0.1904365  -0.1386665   0.26916206\n",
            "  0.13736773  0.10608718 -0.15142776 -0.3128921 ]\n"
          ]
        }
      ],
      "source": [
        "#for layer in model.layers:\n",
        "  #model.layers[1].get_weights()[1]\n",
        "#  weights, biases = get_weights()[0]\n",
        "#  print(weights)\n",
        "#  print(biases)\n",
        "#TODO get weigths error\n",
        "\n",
        "# Print weights calculated in network\n",
        "\n",
        "for layer in model.layers:\n",
        "  try:\n",
        "    w,b = layer.get_weights()\n",
        "    print(w)\n",
        "    print(b)\n",
        "  except Exception as e:\n",
        "    print(e) # not all layers have weights !"
      ]
    }
  ],
  "metadata": {
    "colab": {
      "provenance": []
    },
    "kernelspec": {
      "display_name": "Python 3",
      "name": "python3"
    },
    "language_info": {
      "name": "python"
    }
  },
  "nbformat": 4,
  "nbformat_minor": 0
}