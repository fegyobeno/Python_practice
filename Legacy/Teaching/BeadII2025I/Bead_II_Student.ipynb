{
  "nbformat": 4,
  "nbformat_minor": 0,
  "metadata": {
    "colab": {
      "provenance": []
    },
    "kernelspec": {
      "name": "python3",
      "display_name": "Python 3"
    },
    "language_info": {
      "name": "python"
    }
  },
  "cells": [
    {
      "cell_type": "markdown",
      "source": [
        "#Második beadandó feladat.\n",
        "Tölts ki minden cellát a cella fölött megjelölt feladat megoldásával. Lehet szabadon cellát hozzáadni, amennyiben szükséges."
      ],
      "metadata": {
        "id": "-Rt1aHJS1mB7"
      }
    },
    {
      "cell_type": "code",
      "source": [
        "import pandas as pd\n",
        "from sklearn.datasets import fetch_california_housing\n",
        "import numpy as np\n",
        "import os"
      ],
      "metadata": {
        "id": "O0ZmZN7KNddx"
      },
      "execution_count": null,
      "outputs": []
    },
    {
      "cell_type": "code",
      "source": [
        "import kagglehub\n",
        "\n",
        "# Download latest version\n",
        "path = kagglehub.dataset_download(\"shashanknecrothapa/ames-housing-dataset\")\n",
        "\n",
        "print(\"Path to dataset files:\", path)"
      ],
      "metadata": {
        "colab": {
          "base_uri": "https://localhost:8080/"
        },
        "id": "dW22N7pcPM7M",
        "outputId": "a9d73dc2-4726-4ba6-99c3-b303a9018373"
      },
      "execution_count": null,
      "outputs": [
        {
          "output_type": "stream",
          "name": "stdout",
          "text": [
            "Path to dataset files: /kaggle/input/ames-housing-dataset\n"
          ]
        }
      ]
    },
    {
      "cell_type": "code",
      "source": [
        "\n",
        "csv_files = [file for file in os.listdir(path) if file.endswith('.csv')]\n",
        "\n",
        "if csv_files:\n",
        "    first_csv = os.path.join(path, csv_files[0])\n",
        "    try:\n",
        "        df = pd.read_csv(first_csv)\n",
        "    except pd.errors.ParserError as e:\n",
        "        print(f\"Error reading CSV file: {e}\")\n",
        "    except FileNotFoundError:\n",
        "      print(f\"File not found: {first_csv}\")\n",
        "else:\n",
        "    print(\"No CSV files found in the specified directory.\")\n"
      ],
      "metadata": {
        "id": "J4UlI4-ePORE"
      },
      "execution_count": null,
      "outputs": []
    },
    {
      "cell_type": "markdown",
      "source": [
        "A következő cellában irasd ki az adathalmaz dimenzióját (sorok száma, oszlopok száma)"
      ],
      "metadata": {
        "id": "7ETFFjB8PxE2"
      }
    },
    {
      "cell_type": "code",
      "source": [],
      "metadata": {
        "id": "flxorgSGPwgv"
      },
      "execution_count": null,
      "outputs": []
    },
    {
      "cell_type": "markdown",
      "source": [
        "A következő cellában irasd ki az adathalmaz első öt sorát"
      ],
      "metadata": {
        "id": "RIvKA0-lvd4z"
      }
    },
    {
      "cell_type": "code",
      "source": [],
      "metadata": {
        "id": "FlBgvuq8QEzE"
      },
      "execution_count": null,
      "outputs": []
    },
    {
      "cell_type": "markdown",
      "source": [
        "A következő cellában ird ki az összes oszlop nevét, a nem null elemek számát és az oszlopban található adatok típusát"
      ],
      "metadata": {
        "id": "GrYZYzW0vl2E"
      }
    },
    {
      "cell_type": "code",
      "source": [],
      "metadata": {
        "id": "eR5Mi4lwQJkX"
      },
      "execution_count": null,
      "outputs": []
    },
    {
      "cell_type": "markdown",
      "source": [
        "Hozz létre egy táblázatot a szám típusú oszlopokból amely olyan sorokat tartalmaz, mint (count, mean, std, min, max Q1, Q2, Q3, stb...)"
      ],
      "metadata": {
        "id": "Ikj5mDRUv694"
      }
    },
    {
      "cell_type": "code",
      "source": [],
      "metadata": {
        "id": "G7ZRCDd_QPod"
      },
      "execution_count": null,
      "outputs": []
    },
    {
      "cell_type": "markdown",
      "source": [
        "Az isnul() függvény használatával írd ki oszloponként az oszlopban található null elemek számát"
      ],
      "metadata": {
        "id": "21z7-HfVwU_H"
      }
    },
    {
      "cell_type": "code",
      "source": [],
      "metadata": {
        "id": "j_hS_JRSQVij"
      },
      "execution_count": null,
      "outputs": []
    },
    {
      "cell_type": "markdown",
      "source": [
        "Írd ki az adathalmazban található összes null elem számát"
      ],
      "metadata": {
        "id": "MAJfk9d9wd6q"
      }
    },
    {
      "cell_type": "code",
      "source": [],
      "metadata": {
        "id": "e5cz85TrQXec"
      },
      "execution_count": null,
      "outputs": []
    },
    {
      "cell_type": "markdown",
      "source": [
        "#A hiányzó elemek kezelése"
      ],
      "metadata": {
        "id": "KqEusowUTtTV"
      }
    },
    {
      "cell_type": "markdown",
      "source": [
        "A cols_with_missing változóba gyűjtsd ki az oszlopok nevét, amelyekben található hiányzó elem (Null érték)"
      ],
      "metadata": {
        "id": "x6TGs81pwvIr"
      }
    },
    {
      "cell_type": "code",
      "source": [
        "cols_with_missing = ..."
      ],
      "metadata": {
        "id": "FVEqINnFUtOy"
      },
      "execution_count": 1,
      "outputs": []
    },
    {
      "cell_type": "markdown",
      "source": [
        "A következő linken megtalálható az összes információ az adathalmaz oszlopaival kapcsolatban https://jse.amstat.org/v19n3/decock/DataDocumentation.txt . Ennek alapján egyéni elbírálás szerint kezeld a hiányzó értékeket."
      ],
      "metadata": {
        "id": "hZu5vj6KUMf0"
      }
    },
    {
      "cell_type": "code",
      "source": [
        "df['Lot Frontage'].fillna(...)\n",
        "df['Alley'].fillna(...)\n",
        "df['Mas Vnr Type'].fillna(...)\n",
        "df['Mas Vnr Area'].fillna(...)\n",
        "df['Bsmt Qual'].fillna(...)\n",
        "df['Bsmt Cond'].fillna(...)\n",
        "df['Bsmt Exposure'].fillna(...)\n",
        "df['BsmtFin Type 1'].fillna(...)\n",
        "df['BsmtFin SF 1'].fillna(...)\n",
        "\n",
        "df['BsmtFin Type 2'].fillna(...)\n",
        "df['BsmtFin SF 2'].fillna(...)\n",
        "df['Bsmt Unf SF'].fillna(...)\n",
        "df['Total Bsmt SF'].fillna(...)\n",
        "\n",
        "df['Electrical'].fillna(...)\n",
        "df['Bsmt Full Bath'].fillna(...)\n",
        "df['Bsmt Half Bath'].fillna(...)\n",
        "df['Fireplace Qu'].fillna(...)\n",
        "\n",
        "df['Garage Type'].fillna(...)\n",
        "df['Garage Yr Blt'].fillna(...)\n",
        "df['Garage Finish'].fillna(...)\n",
        "df['Garage Cars'].fillna(...)\n",
        "\n",
        "df['Garage Area'].fillna(...)\n",
        "df['Garage Qual'].fillna(...)\n",
        "df['Garage Cond'].fillna(...)\n",
        "df['Pool QC'].fillna(...)\n",
        "df['Fence'].fillna(...)\n",
        "df['Misc Feature'].fillna(...)\n"
      ],
      "metadata": {
        "collapsed": true,
        "id": "nR4OS8FUUOEu"
      },
      "execution_count": 1,
      "outputs": []
    },
    {
      "cell_type": "markdown",
      "source": [
        "Ellenőrízd le, hogy valóban nincs több hiányzó elem az adathalmazban"
      ],
      "metadata": {
        "id": "Ee7tUIVGxK_w"
      }
    },
    {
      "cell_type": "code",
      "source": [],
      "metadata": {
        "id": "DOb3gaz_WwEA"
      },
      "execution_count": 1,
      "outputs": []
    },
    {
      "cell_type": "markdown",
      "source": [
        "Azokat az oszlopokat amelyek jelenleg \"object\" típusúak, alakítsd át \"category\" típusúvá"
      ],
      "metadata": {
        "id": "C2NlnmwCxTHc"
      }
    },
    {
      "cell_type": "code",
      "source": [],
      "metadata": {
        "id": "bpmgUi06Xg-2"
      },
      "execution_count": 1,
      "outputs": []
    },
    {
      "cell_type": "markdown",
      "source": [
        "A számértékeket tartalmazó sorokat normalizáld nulla és egy közé annak érdekében, hogy azonos skálán helyezkedjenek el."
      ],
      "metadata": {
        "id": "ZR-liUcrxgVO"
      }
    },
    {
      "cell_type": "code",
      "source": [
        "from sklearn.preprocessing import MinMaxScaler\n"
      ],
      "metadata": {
        "id": "3fmGcJanZ290"
      },
      "execution_count": 2,
      "outputs": []
    },
    {
      "cell_type": "markdown",
      "source": [
        "A \"category\" típusú sorokat valamilyen kódolási módszerrel alakítsd át úgy, hogy számértékeket tartalmazzanak. (Például label encoding, one hot encoding, ...)"
      ],
      "metadata": {
        "id": "4LDFwUx1xtj_"
      }
    },
    {
      "cell_type": "code",
      "source": [],
      "metadata": {
        "id": "AzOTZ7vGYmYP"
      },
      "execution_count": 2,
      "outputs": []
    },
    {
      "cell_type": "markdown",
      "source": [
        "#Adat vizualizáció és oszlop kiválasztás"
      ],
      "metadata": {
        "id": "6Mc1n5i2ZeN6"
      }
    },
    {
      "cell_type": "markdown",
      "source": [
        "Készíts egy korrelációs mátrixot a normalizált és kódolt adathalmazhoz"
      ],
      "metadata": {
        "id": "T8zzqubhx_NJ"
      }
    },
    {
      "cell_type": "code",
      "source": [
        "import seaborn as sns\n",
        "import matplotlib.pyplot as plt"
      ],
      "metadata": {
        "id": "myZVQBUBZhPX"
      },
      "execution_count": 3,
      "outputs": []
    },
    {
      "cell_type": "markdown",
      "source": [
        "Válassz egy küszöbértéket, ami meghatározza, hogy mekkora korreláció után lesz figyelembe véve egy oszlop, majd ezt felhasználva válogasd ki a megfelelő oszlopokat."
      ],
      "metadata": {
        "id": "rn-ubw7Ncb3k"
      }
    },
    {
      "cell_type": "code",
      "source": [],
      "metadata": {
        "id": "FXkzbwlOchIO"
      },
      "execution_count": 3,
      "outputs": []
    },
    {
      "cell_type": "markdown",
      "source": [
        "Válaszd két részre a feldolgozott adathalmazodat. X - ide megy minden ami nem a jósolni kívánt érték -, valamint y - SalePrice oszlop - .  "
      ],
      "metadata": {
        "id": "_txO0oQVyiMP"
      }
    },
    {
      "cell_type": "code",
      "source": [],
      "metadata": {
        "id": "hk-5LEFkdB8V"
      },
      "execution_count": 3,
      "outputs": []
    },
    {
      "cell_type": "markdown",
      "source": [
        "A train_test_split segítségével válaszd 3 részre az adathalmazodat. Tanító tesztelő és validáló adathalmazra."
      ],
      "metadata": {
        "id": "u4mCrnu3yx88"
      }
    },
    {
      "cell_type": "code",
      "source": [
        "from sklearn.model_selection import train_test_split"
      ],
      "metadata": {
        "id": "GqzXa_PBe6Bg"
      },
      "execution_count": 4,
      "outputs": []
    },
    {
      "cell_type": "markdown",
      "source": [
        "#Training the neural network"
      ],
      "metadata": {
        "id": "J2lz3TQjc-oj"
      }
    },
    {
      "cell_type": "code",
      "source": [
        "from keras.models import Sequential\n",
        "from keras.layers import Dense, Input\n",
        "from keras.optimizers import Adam\n",
        "from keras.callbacks import EarlyStopping"
      ],
      "metadata": {
        "id": "tXYh9jXwdBVr"
      },
      "execution_count": 5,
      "outputs": []
    },
    {
      "cell_type": "markdown",
      "source": [
        "Hozz létre egy neurális hálót, ami az általad kiválasztott számú tulajdonságot vár bemenetként, és a ház eladási árát adja kimenetként. Kísérletezz különböző számú réteggel valamint aktivációs fügvénnyel és válaszd ki a legoptimálisabbat. (Amennyiben a modell nem tanul elég gyorsan, akkor a Runtime->Change Runtime Type menüponban válts át GPU partícióra)"
      ],
      "metadata": {
        "id": "ZbtBNjn-y9_0"
      }
    },
    {
      "cell_type": "code",
      "source": [],
      "metadata": {
        "id": "iOlI3ku0fdyM"
      },
      "execution_count": 5,
      "outputs": []
    },
    {
      "cell_type": "markdown",
      "source": [
        "Compile-old a modelt. Válasz egy megfelelő tanulási rátát valamint error fajtát."
      ],
      "metadata": {
        "id": "3ckRa6yezKot"
      }
    },
    {
      "cell_type": "code",
      "source": [],
      "metadata": {
        "id": "o-iMcoKrfm9r"
      },
      "execution_count": 5,
      "outputs": []
    },
    {
      "cell_type": "markdown",
      "source": [
        "Tanítsd rá a modelt az adathalmazra. A hibát és a validálási hibát mentsd el, annak érdekében, hogy ezt vizualizálva láthasd, hogy milyen módon javult a modelled teljesítménye. Alkalmazhatsz early-stopping mechanizmust."
      ],
      "metadata": {
        "id": "txpT02nGzWWL"
      }
    },
    {
      "cell_type": "code",
      "source": [],
      "metadata": {
        "id": "_B8Jg7VTgHc3"
      },
      "execution_count": 5,
      "outputs": []
    },
    {
      "cell_type": "markdown",
      "source": [
        "Vizualizáld a tanítási és validációs hibát ugyanazon a grafikonon"
      ],
      "metadata": {
        "id": "oD3JuyZuzuww"
      }
    },
    {
      "cell_type": "code",
      "source": [],
      "metadata": {
        "id": "Yj0RY6lzgb7P"
      },
      "execution_count": 5,
      "outputs": []
    },
    {
      "cell_type": "markdown",
      "source": [
        "Válassz egy véletlenszerű elemet az adathalmazból, vagy találj ki egy sajátot, majd demonstráld, hogy a modell mit jósol rá és ez mennyire tér el az eredeti értéktől."
      ],
      "metadata": {
        "id": "Hm47MT0bz37h"
      }
    },
    {
      "cell_type": "code",
      "source": [],
      "metadata": {
        "id": "gtHST_WihrON"
      },
      "execution_count": 5,
      "outputs": []
    }
  ]
}